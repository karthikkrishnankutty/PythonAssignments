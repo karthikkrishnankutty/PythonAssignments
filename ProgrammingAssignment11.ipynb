{
  "nbformat": 4,
  "nbformat_minor": 0,
  "metadata": {
    "colab": {
      "provenance": []
    },
    "kernelspec": {
      "name": "python3",
      "display_name": "Python 3"
    },
    "language_info": {
      "name": "python"
    }
  },
  "cells": [
    {
      "cell_type": "markdown",
      "source": [
        "1.\tWrite a Python program to find words which are greater than given length k?"
      ],
      "metadata": {
        "id": "-SmQ6RdycspB"
      }
    },
    {
      "cell_type": "code",
      "source": [
        "def strCheck(strLength,inputString):\n",
        "  resStr = []\n",
        "  words = inputString.split(\" \")\n",
        "\n",
        "  for i in words:\n",
        "    if len(i) > strLength:\n",
        "      resStr.append(i)\n",
        "  return resStr\n",
        "\n",
        "inputString = \"My name is Karthik and I am working as a Technology Analyst in Infosys\"\n",
        "strLength = int(input(\"Enter the length of a string : \"))\n",
        "\n",
        "print(\"The given input string is : \", inputString)\n",
        "print(f\"The words in the given string with length greater than {strLength} are : \", strCheck(strLength,inputString))"
      ],
      "metadata": {
        "colab": {
          "base_uri": "https://localhost:8080/"
        },
        "id": "_6sihbAscwcx",
        "outputId": "b7d015c1-5ddc-42f7-c329-62eaf10f7aa3"
      },
      "execution_count": 1,
      "outputs": [
        {
          "output_type": "stream",
          "name": "stdout",
          "text": [
            "Enter the length of a string : 3\n",
            "The given input string is :  My name is Karthik and I am working as a Technology Analyst in Infosys\n",
            "The words in the given string with length greater than 3 are :  ['name', 'Karthik', 'working', 'Technology', 'Analyst', 'Infosys']\n"
          ]
        }
      ]
    },
    {
      "cell_type": "markdown",
      "source": [
        "2.\tWrite a Python program for removing i-th character from a string?"
      ],
      "metadata": {
        "id": "v24SunXbeOZ8"
      }
    },
    {
      "cell_type": "code",
      "source": [
        "inputString = \"My name is Karthik\"\n",
        "n = int(input(\"Enter the index number at which the character should be removed from the given string : \"))\n",
        "\n",
        "print(\"The given input string is : \", inputString)\n",
        "\n",
        "newStr =''\n",
        "for char in range(0,len(inputString)):\n",
        "  if char!=n:\n",
        "    newStr += inputString[char]\n",
        "print(f\"Updated string after removing the character at the index {n} is : \",newStr)"
      ],
      "metadata": {
        "colab": {
          "base_uri": "https://localhost:8080/"
        },
        "id": "oxF1r57NeCcO",
        "outputId": "c3103f08-971c-4241-ceea-99d996ede100"
      },
      "execution_count": 9,
      "outputs": [
        {
          "output_type": "stream",
          "name": "stdout",
          "text": [
            "Enter the index number at which the character should be removed from the given string : 11\n",
            "The given input string is :  My name is Karthik\n",
            "Updated string after removing the character at the index 11 is :  My name is arthik\n"
          ]
        }
      ]
    },
    {
      "cell_type": "markdown",
      "source": [
        "3.\tWrite a Python program to split and join a string?"
      ],
      "metadata": {
        "id": "_gg__cOVg6Vj"
      }
    },
    {
      "cell_type": "code",
      "source": [
        "def splitString(inputString):\n",
        "  list = inputString.split(' ')\n",
        "  return list\n",
        "\n",
        "def joinString(list):\n",
        "  str = '_'.join(list)\n",
        "  return str\n",
        "\n",
        "inputString = \"My name is Karthik\"\n",
        "list = splitString(inputString)\n",
        "print(\"String Before Splitting : \", list)\n",
        "res = joinString(list)\n",
        "print(\"String After joining : \", res)"
      ],
      "metadata": {
        "colab": {
          "base_uri": "https://localhost:8080/"
        },
        "id": "KS1VcCZ3fSWX",
        "outputId": "7e20700d-7196-4007-b01e-6463a5d5d884"
      },
      "execution_count": 10,
      "outputs": [
        {
          "output_type": "stream",
          "name": "stdout",
          "text": [
            "String Before Splitting :  ['My', 'name', 'is', 'Karthik']\n",
            "String After joining :  My_name_is_Karthik\n"
          ]
        }
      ]
    },
    {
      "cell_type": "markdown",
      "source": [
        "4.\tWrite a Python to check if a given string is binary string or not?"
      ],
      "metadata": {
        "id": "EAuFJJi2iPwf"
      }
    },
    {
      "cell_type": "code",
      "source": [
        "inputString = input(\"Enter a string : \")\n",
        "binaryString = '01'\n",
        "count = 0\n",
        "\n",
        "for i in inputString:\n",
        "  if i not in binaryString:\n",
        "    count = 1\n",
        "    break\n",
        "  else:\n",
        "    pass\n",
        "\n",
        "if count:\n",
        "  print(f\"The given string {inputString} is not a Binary String\")\n",
        "else:\n",
        "  print(f\"The given string {inputString} is a Binary String\")"
      ],
      "metadata": {
        "colab": {
          "base_uri": "https://localhost:8080/"
        },
        "id": "dsi_S7B7h__p",
        "outputId": "860c260e-ad20-44c7-8ed1-6df93d928d77"
      },
      "execution_count": 13,
      "outputs": [
        {
          "output_type": "stream",
          "name": "stdout",
          "text": [
            "Enter a string : 1011011010\n",
            "The given string 1011011010 is a Binary String\n"
          ]
        }
      ]
    },
    {
      "cell_type": "markdown",
      "source": [
        "5.\tWrite a Python program to find uncommon words from two Strings?"
      ],
      "metadata": {
        "id": "xG0zoTFnjmO7"
      }
    },
    {
      "cell_type": "code",
      "source": [
        "def unCommonWords(str1,str2):\n",
        "  count = {}\n",
        "  for i in str1.split():\n",
        "    count[i] = count.get(i,0) + 1\n",
        "  for i in str2.split():\n",
        "    count[i] = count.get(i,0) + 1\n",
        "  return [i for i in count if count[i]==1]\n",
        "\n",
        "str1 = \"I am working at Infosys for one year\" \n",
        "print(str1)\n",
        "str2 = \"I was working at Cognizant for two years\"\n",
        "print(str2)\n",
        "print(\"The uncommon words in the given strings are : \", unCommonWords(str1,str2))"
      ],
      "metadata": {
        "colab": {
          "base_uri": "https://localhost:8080/"
        },
        "id": "_kk6aor-jH_j",
        "outputId": "562ecf2f-c45c-4d55-a838-b6e883b7aadb"
      },
      "execution_count": 14,
      "outputs": [
        {
          "output_type": "stream",
          "name": "stdout",
          "text": [
            "I am working at Infosys for one year\n",
            "I was working at Cognizant for two years\n",
            "The uncommon words in the given strings are :  ['am', 'Infosys', 'one', 'year', 'was', 'Cognizant', 'two', 'years']\n"
          ]
        }
      ]
    },
    {
      "cell_type": "markdown",
      "source": [
        "6.\tWrite a Python to find all duplicate characters in string?"
      ],
      "metadata": {
        "id": "JQdO7XJzkzzr"
      }
    },
    {
      "cell_type": "code",
      "source": [
        "inputString = 'karthikkrishnankutty'\n",
        "dupChar = []\n",
        "\n",
        "for char in inputString:\n",
        "  if inputString.count(char) > 1:\n",
        "    if char not in dupChar:\n",
        "      dupChar.append(char)\n",
        "print(dupChar)"
      ],
      "metadata": {
        "colab": {
          "base_uri": "https://localhost:8080/"
        },
        "id": "cveM_FcXkqLH",
        "outputId": "8e8cd69a-1faa-448f-8f74-afe89c4c1b7a"
      },
      "execution_count": 17,
      "outputs": [
        {
          "output_type": "stream",
          "name": "stdout",
          "text": [
            "['k', 'a', 'r', 't', 'h', 'i', 'n']\n"
          ]
        }
      ]
    },
    {
      "cell_type": "markdown",
      "source": [
        "7.\tWrite a Python Program to check if a string contains any special character?"
      ],
      "metadata": {
        "id": "tg9GpDMulskR"
      }
    },
    {
      "cell_type": "code",
      "source": [
        "specialChar = '\"!@#$%^&*()-+?_=,<>/\"'\n",
        "inputString = input(\"Enter a string to check if there are any special characters : \")\n",
        "\n",
        "if any(i in specialChar for i in inputString):\n",
        "  print(\"The given input has special characters\")\n",
        "else:\n",
        "  print(\"The given input does not have any special characters\")"
      ],
      "metadata": {
        "colab": {
          "base_uri": "https://localhost:8080/"
        },
        "id": "LfAwLOYFleYU",
        "outputId": "45d94dc3-5573-4a2c-b21f-ea41b0632602"
      },
      "execution_count": 19,
      "outputs": [
        {
          "output_type": "stream",
          "name": "stdout",
          "text": [
            "Enter a string to check if there are any special characters : I am & Karthik\n",
            "The given input has special characters\n"
          ]
        }
      ]
    }
  ]
}