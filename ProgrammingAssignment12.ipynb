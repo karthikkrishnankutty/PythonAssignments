{
  "nbformat": 4,
  "nbformat_minor": 0,
  "metadata": {
    "colab": {
      "provenance": []
    },
    "kernelspec": {
      "name": "python3",
      "display_name": "Python 3"
    },
    "language_info": {
      "name": "python"
    }
  },
  "cells": [
    {
      "cell_type": "markdown",
      "source": [
        "1.\tWrite a Python program to Extract Unique values dictionary values?"
      ],
      "metadata": {
        "id": "oeEvD_A1y2UH"
      }
    },
    {
      "cell_type": "code",
      "execution_count": null,
      "metadata": {
        "colab": {
          "base_uri": "https://localhost:8080/"
        },
        "id": "7IOv3ll8ypQu",
        "outputId": "a0f58e38-4f52-44e0-9a44-33ef72f52c2f"
      },
      "outputs": [
        {
          "output_type": "stream",
          "name": "stdout",
          "text": [
            "The given dictionary is :  {'key1': [1, 3, 5, 42, 2], 'key2': [3, 4, 2, 45, 76, 33], 'key3': [2, 4, 6, 33, 98, 54]}\n",
            "Unique values in a given dictionary are :  [1, 2, 3, 4, 5, 6, 33, 42, 45, 54, 76, 98]\n"
          ]
        }
      ],
      "source": [
        "inputDict = {'key1': [1,3,5,42,2], 'key2' : [3,4,2,45,76,33], 'key3' : [2,4,6,33,98,54]}\n",
        "print(\"The given dictionary is : \", inputDict)\n",
        "\n",
        "res = list(sorted({ele for val in inputDict.values() for ele in val}))\n",
        "\n",
        "print(\"Unique values in a given dictionary are : \", res)"
      ]
    },
    {
      "cell_type": "markdown",
      "source": [
        "2.\tWrite a Python program to find the sum of all items in a dictionary?"
      ],
      "metadata": {
        "id": "fa0VglHwz7jE"
      }
    },
    {
      "cell_type": "code",
      "source": [
        "def sumDict(inputDict):\n",
        "  sum = 0\n",
        "  for i in inputDict:\n",
        "    sum = sum + inputDict[i]\n",
        "  return sum\n",
        "\n",
        "inputDict = {'a':10,'e':22,'i':34,'o':46,'u':98}\n",
        "print(\"The given dictionary is : \", inputDict)\n",
        "print(\"Sum of all the items in a dictionary is : \", sumDict(inputDict))"
      ],
      "metadata": {
        "colab": {
          "base_uri": "https://localhost:8080/"
        },
        "id": "u1_vljdAzefS",
        "outputId": "75414603-76d0-4971-8bcb-dd86c4f5b29d"
      },
      "execution_count": null,
      "outputs": [
        {
          "output_type": "stream",
          "name": "stdout",
          "text": [
            "The given dictionary is :  {'a': 10, 'e': 22, 'i': 34, 'o': 46, 'u': 98}\n",
            "Sum of all the items in a dictionary is :  210\n"
          ]
        }
      ]
    },
    {
      "cell_type": "markdown",
      "source": [
        "3.\tWrite a Python program to Merging two Dictionaries?"
      ],
      "metadata": {
        "id": "suu_fGGw04Oc"
      }
    },
    {
      "cell_type": "code",
      "source": [
        "inputDict1 = {'a':10,'e':22,'i':34,'o':46,'u':98}\n",
        "print(\"The first dictionary is : \", inputDict1)\n",
        "inputDict2 = {'b':11,'f':23,'j':35,'p':47,'v':99}\n",
        "print(\"The second dictionary is : \", inputDict2)\n",
        "\n",
        "inputDict1.update(inputDict2)\n",
        "print(\"The first dictionary after merging is : \", inputDict1)"
      ],
      "metadata": {
        "colab": {
          "base_uri": "https://localhost:8080/"
        },
        "id": "XDgKuowj0zKU",
        "outputId": "1c2aab7c-aad2-4fb1-f015-4f2c20efb4d0"
      },
      "execution_count": null,
      "outputs": [
        {
          "output_type": "stream",
          "name": "stdout",
          "text": [
            "The first dictionary is :  {'a': 10, 'e': 22, 'i': 34, 'o': 46, 'u': 98}\n",
            "The second dictionary is :  {'b': 11, 'f': 23, 'j': 35, 'p': 47, 'v': 99}\n",
            "The first dictionary after merging is :  {'a': 10, 'e': 22, 'i': 34, 'o': 46, 'u': 98, 'b': 11, 'f': 23, 'j': 35, 'p': 47, 'v': 99}\n"
          ]
        }
      ]
    },
    {
      "cell_type": "markdown",
      "source": [
        "4.\tWrite a Python program to convert key-values list to flat dictionary?"
      ],
      "metadata": {
        "id": "0HoPgq_N15p-"
      }
    },
    {
      "cell_type": "code",
      "source": [
        "from itertools import product\n",
        "\n",
        "inputDict = {'days':[1,2,3,4,5,6,7],'day':['Sunday','Monday','Tuesday','Wednesday','Thursday','Friday','Saturday']}\n",
        "print(\"The given dictionary is : \", inputDict)\n",
        "\n",
        "res = dict(zip(inputDict['days'],inputDict['day']))\n",
        "print(\"The resultant dictionary is : \", res)"
      ],
      "metadata": {
        "colab": {
          "base_uri": "https://localhost:8080/"
        },
        "id": "s5TTsTwH1xvj",
        "outputId": "72d2ea9c-0242-4888-dcaf-a7217aadb506"
      },
      "execution_count": null,
      "outputs": [
        {
          "output_type": "stream",
          "name": "stdout",
          "text": [
            "The given dictionary is :  {'days': [1, 2, 3, 4, 5, 6, 7], 'day': ['Sunday', 'Monday', 'Tuesday', 'Wednesday', 'Thursday', 'Friday', 'Saturday']}\n",
            "The resultant dictionary is :  {1: 'Sunday', 2: 'Monday', 3: 'Tuesday', 4: 'Wednesday', 5: 'Thursday', 6: 'Friday', 7: 'Saturday'}\n"
          ]
        }
      ]
    },
    {
      "cell_type": "markdown",
      "source": [
        "5.\tWrite a Python program to insertion at the beginning in OrderedDict?"
      ],
      "metadata": {
        "id": "oPvGSv2n22SI"
      }
    },
    {
      "cell_type": "code",
      "source": [
        "from collections import OrderedDict\n",
        "\n",
        "inputDict = OrderedDict([('a',10),('e',22),('i',34),('o',46),('u',98)])\n",
        "print(\"The given dictionary is : \", inputDict)\n",
        "\n",
        "inputDict.update({'z':77})\n",
        "inputDict.move_to_end('z',last = False)\n",
        "\n",
        "print(\"The resultant dictionary is : \", inputDict)"
      ],
      "metadata": {
        "colab": {
          "base_uri": "https://localhost:8080/"
        },
        "id": "p1pGMzqD2xyj",
        "outputId": "b47b3435-f5ab-4d69-ac4e-7b80b5780f7d"
      },
      "execution_count": null,
      "outputs": [
        {
          "output_type": "stream",
          "name": "stdout",
          "text": [
            "The given dictionary is :  OrderedDict([('a', 10), ('e', 22), ('i', 34), ('o', 46), ('u', 98)])\n",
            "The resultant dictionary is :  OrderedDict([('z', 77), ('a', 10), ('e', 22), ('i', 34), ('o', 46), ('u', 98)])\n"
          ]
        }
      ]
    },
    {
      "cell_type": "markdown",
      "source": [
        "6.\tWrite a Python program to check order of character in string using OrderedDict()?"
      ],
      "metadata": {
        "id": "JVHQCmKC53o6"
      }
    },
    {
      "cell_type": "code",
      "source": [
        "from collections import OrderedDict\n",
        "\n",
        "def checkOrder(string,pattern):\n",
        "  dic = OrderedDict.fromkeys(string)\n",
        "  ptr = 0\n",
        "\n",
        "  for key,value in dic.items():\n",
        "    if (key == pattern[ptr]):\n",
        "      ptr = ptr + 1\n",
        "    if (ptr == (len(pattern))):\n",
        "      return 'The order of the pattern is correct'\n",
        "    \n",
        "  return 'The order of the pattern is incorrect'\n",
        "\n",
        "string = 'My name is Karthik Krishnankutty'\n",
        "print(\"The given string is : \",string)\n",
        "pattern = 'rak'\n",
        "print(checkOrder(string,pattern))"
      ],
      "metadata": {
        "colab": {
          "base_uri": "https://localhost:8080/"
        },
        "id": "4KLwSjfu43TT",
        "outputId": "f821d600-5b0e-4326-85ec-5dfa19a51ab8"
      },
      "execution_count": 3,
      "outputs": [
        {
          "output_type": "stream",
          "name": "stdout",
          "text": [
            "The given string is :  My name is Karthik Krishnankutty\n",
            "The order of the pattern is incorrect\n"
          ]
        }
      ]
    },
    {
      "cell_type": "markdown",
      "source": [
        "7.\tWrite a Python program to sort Python Dictionaries by Key or Value?"
      ],
      "metadata": {
        "id": "zWNJtJBQ6hsF"
      }
    },
    {
      "cell_type": "code",
      "source": [
        "print(\"The given dictionary : \")\n",
        "dayNames = { 'one' : 'Monday' ,  'six' : 'Saturday' ,'three' : 'Wednesday' ,  'two' : 'Tuesday' , 'five': 'Friday' ,  'seven': 'Sunday' }  \n",
        "print(dayNames)  \n",
        "number = { 'one' : 1 , 'two' : 2 , 'three' : 3 , 'four' : 4 , 'five' : 5 , 'six' : 6 , 'seven' : 7}  \n",
        "print(\"Keys sorted :\")\n",
        "print(sorted(dayNames , key=number.__getitem__))  \n",
        "print(\"Values sorted : \")\n",
        "print([dayNames[i] for i in sorted(dayNames , key=number.__getitem__)])  "
      ],
      "metadata": {
        "id": "l-y4mpTp8k3o",
        "colab": {
          "base_uri": "https://localhost:8080/"
        },
        "outputId": "ef27104c-2729-401e-e771-917afca6a04e"
      },
      "execution_count": 7,
      "outputs": [
        {
          "output_type": "stream",
          "name": "stdout",
          "text": [
            "The given dictionary : \n",
            "{'one': 'Monday', 'six': 'Saturday', 'three': 'Wednesday', 'two': 'Tuesday', 'five': 'Friday', 'seven': 'Sunday'}\n",
            "Keys sorted :\n",
            "['one', 'two', 'three', 'five', 'six', 'seven']\n",
            "Values sorted : \n",
            "['Monday', 'Tuesday', 'Wednesday', 'Friday', 'Saturday', 'Sunday']\n"
          ]
        }
      ]
    }
  ]
}