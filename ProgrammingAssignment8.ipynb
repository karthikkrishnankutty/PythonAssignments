{
  "nbformat": 4,
  "nbformat_minor": 0,
  "metadata": {
    "colab": {
      "provenance": []
    },
    "kernelspec": {
      "name": "python3",
      "display_name": "Python 3"
    },
    "language_info": {
      "name": "python"
    }
  },
  "cells": [
    {
      "cell_type": "markdown",
      "source": [
        "1.\tWrite a Python Program to Add Two Matrices?"
      ],
      "metadata": {
        "id": "bIAsJrRMBJIa"
      }
    },
    {
      "cell_type": "code",
      "source": [
        "arr=[]\n",
        "n=int(input(\"Enter N for N X N Matrix : \"))\n",
        "print(\"Enter the elements : \")\n",
        "\n",
        "for i in range(n):\n",
        "  row=[]\n",
        "  for j in range(n):\n",
        "    row.append(int(input()))\n",
        "  arr.append(row)\n",
        "print(arr)\n",
        "\n",
        "print(\"Displaying the array in matrix form : \")\n",
        "for i in range(n):\n",
        "  for j in range(n):\n",
        "    print(arr[i][j], end = \" \")\n",
        "  print()\n",
        "\n",
        "arr2=[]\n",
        "n=int(input(\"Enter N for N X N Matrix : \"))\n",
        "print(\"Enter the elements : \")\n",
        "\n",
        "for i in range(n):\n",
        "  row=[]\n",
        "  for j in range(n):\n",
        "    row.append(int(input()))\n",
        "  arr2.append(row)\n",
        "print(arr2)\n",
        "\n",
        "print(\"Displaying the array in matrix form : \")\n",
        "for i in range(n):\n",
        "  for j in range(n):\n",
        "    print(arr2[i][j], end = \" \")\n",
        "  print()\n",
        "\n",
        "res = [[0,0,0],[0,0,0],[0,0,0]]\n",
        "\n",
        "for i in range(n):\n",
        "  for j in range(len(arr[0])):\n",
        "    res[i][j]=arr[i][j]+arr2[i][j]\n",
        "\n",
        "print(\"Resultant Matrix is : \")\n",
        "for r in res:\n",
        "  print(r)"
      ],
      "metadata": {
        "colab": {
          "base_uri": "https://localhost:8080/"
        },
        "id": "yGe88U_XBMd9",
        "outputId": "fbbd35de-239b-4d78-9f78-659c196b0d5c"
      },
      "execution_count": 8,
      "outputs": [
        {
          "output_type": "stream",
          "name": "stdout",
          "text": [
            "Enter N for N X N Matrix : 3\n",
            "Enter the elements : \n",
            "1\n",
            "2\n",
            "3\n",
            "4\n",
            "5\n",
            "6\n",
            "7\n",
            "8\n",
            "9\n",
            "[[1, 2, 3], [4, 5, 6], [7, 8, 9]]\n",
            "Displaying the array in matrix form : \n",
            "1 2 3 \n",
            "4 5 6 \n",
            "7 8 9 \n",
            "Enter N for N X N Matrix : 3\n",
            "Enter the elements : \n",
            "10\n",
            "20\n",
            "30\n",
            "40\n",
            "50\n",
            "60\n",
            "70\n",
            "80\n",
            "90\n",
            "[[10, 20, 30], [40, 50, 60], [70, 80, 90]]\n",
            "Displaying the array in matrix form : \n",
            "10 20 30 \n",
            "40 50 60 \n",
            "70 80 90 \n",
            "Resultant Matrix is : \n",
            "[11, 22, 33]\n",
            "[44, 55, 66]\n",
            "[77, 88, 99]\n"
          ]
        }
      ]
    },
    {
      "cell_type": "markdown",
      "source": [
        "2.\tWrite a Python Program to Multiply Two Matrices?"
      ],
      "metadata": {
        "id": "o-GNiYfYFw3U"
      }
    },
    {
      "cell_type": "code",
      "source": [
        "arr=[]\n",
        "n=int(input(\"Enter N for N X N Matrix : \"))\n",
        "print(\"Enter the elements : \")\n",
        "\n",
        "for i in range(n):\n",
        "  row=[]\n",
        "  for j in range(n):\n",
        "    row.append(int(input()))\n",
        "  arr.append(row)\n",
        "print(arr)\n",
        "\n",
        "print(\"Displaying the array in matrix form : \")\n",
        "for i in range(n):\n",
        "  for j in range(n):\n",
        "    print(arr[i][j], end = \" \")\n",
        "  print()\n",
        "\n",
        "arr2=[]\n",
        "n=int(input(\"Enter N for N X N Matrix : \"))\n",
        "print(\"Enter the elements : \")\n",
        "\n",
        "for i in range(n):\n",
        "  row=[]\n",
        "  for j in range(n):\n",
        "    row.append(int(input()))\n",
        "  arr2.append(row)\n",
        "print(arr2)\n",
        "\n",
        "print(\"Displaying the array in matrix form : \")\n",
        "for i in range(n):\n",
        "  for j in range(n):\n",
        "    print(arr2[i][j], end = \" \")\n",
        "  print()\n",
        "3\n",
        "res = [[0,0,0],[0,0,0],[0,0,0]]\n",
        "\n",
        "for i in range(len(arr)):\n",
        "  for j in range(len(arr2[0])):\n",
        "    for k in range(len(arr2)):\n",
        "      res[i][j]+=arr[i][j]*arr2[i][j]\n",
        "\n",
        "print(\"Resultant Matrix is : \")\n",
        "for r in res:\n",
        "  print(r)"
      ],
      "metadata": {
        "colab": {
          "base_uri": "https://localhost:8080/"
        },
        "id": "7hywSGn_EDAr",
        "outputId": "c51a6dac-b8f9-4a81-cf49-3cdc6d7382d1"
      },
      "execution_count": 10,
      "outputs": [
        {
          "output_type": "stream",
          "name": "stdout",
          "text": [
            "Enter N for N X N Matrix : 3\n",
            "Enter the elements : \n",
            "2\n",
            "4\n",
            "6\n",
            "8\n",
            "0\n",
            "1\n",
            "3\n",
            "5\n",
            "7\n",
            "[[2, 4, 6], [8, 0, 1], [3, 5, 7]]\n",
            "Displaying the array in matrix form : \n",
            "2 4 6 \n",
            "8 0 1 \n",
            "3 5 7 \n",
            "Enter N for N X N Matrix : 3\n",
            "Enter the elements : \n",
            "1\n",
            "3\n",
            "5\n",
            "7\n",
            "9\n",
            "2\n",
            "4\n",
            "6\n",
            "8\n",
            "[[1, 3, 5], [7, 9, 2], [4, 6, 8]]\n",
            "Displaying the array in matrix form : \n",
            "1 3 5 \n",
            "7 9 2 \n",
            "4 6 8 \n",
            "Resultant Matrix is : \n",
            "[6, 36, 90]\n",
            "[168, 0, 6]\n",
            "[36, 90, 168]\n"
          ]
        }
      ]
    },
    {
      "cell_type": "markdown",
      "source": [
        "3.\tWrite a Python Program to Transpose a Matrix?"
      ],
      "metadata": {
        "id": "TTuOner4G-C4"
      }
    },
    {
      "cell_type": "code",
      "source": [
        "import numpy\n",
        "arr=[]\n",
        "n=int(input(\"Enter N for N X N Matrix : \"))\n",
        "print(\"Enter the elements : \")\n",
        "\n",
        "for i in range(n):\n",
        "  row=[]\n",
        "  for j in range(n):\n",
        "    row.append(int(input()))\n",
        "  arr.append(row)\n",
        "print(arr)\n",
        "\n",
        "print(numpy.transpose(arr))"
      ],
      "metadata": {
        "colab": {
          "base_uri": "https://localhost:8080/"
        },
        "id": "kLW5HJj4Gc__",
        "outputId": "93ae493e-2bb0-4633-926c-49cd81741bfc"
      },
      "execution_count": 11,
      "outputs": [
        {
          "output_type": "stream",
          "name": "stdout",
          "text": [
            "Enter N for N X N Matrix : 3\n",
            "Enter the elements : \n",
            "1\n",
            "2\n",
            "3\n",
            "4\n",
            "5\n",
            "6\n",
            "7\n",
            "8\n",
            "9\n",
            "[[1, 2, 3], [4, 5, 6], [7, 8, 9]]\n",
            "[[1 4 7]\n",
            " [2 5 8]\n",
            " [3 6 9]]\n"
          ]
        }
      ]
    },
    {
      "cell_type": "markdown",
      "source": [
        "4.\tWrite a Python Program to Sort Words in Alphabetic Order?"
      ],
      "metadata": {
        "id": "7VD0S1P_IPez"
      }
    },
    {
      "cell_type": "code",
      "source": [
        "str1 = input(\"Enter a string : \")\n",
        "\n",
        "words = str1.split()\n",
        "words.sort()\n",
        "\n",
        "for word in words:\n",
        "  print(word)"
      ],
      "metadata": {
        "colab": {
          "base_uri": "https://localhost:8080/"
        },
        "id": "6JII7qkdIEzS",
        "outputId": "a5b04d43-19e6-4562-ec02-ccb590b2b835"
      },
      "execution_count": 12,
      "outputs": [
        {
          "output_type": "stream",
          "name": "stdout",
          "text": [
            "Enter a string : Myself Karthik and I am working in Infosys as a technology Analyst\n",
            "Analyst\n",
            "I\n",
            "Infosys\n",
            "Karthik\n",
            "Myself\n",
            "a\n",
            "am\n",
            "and\n",
            "as\n",
            "in\n",
            "technology\n",
            "working\n"
          ]
        }
      ]
    },
    {
      "cell_type": "markdown",
      "source": [
        "5.\tWrite a Python Program to Remove Punctuation From a String?"
      ],
      "metadata": {
        "id": "ePdo6iTMJj2k"
      }
    },
    {
      "cell_type": "code",
      "source": [
        "samplePunctuations = '''''!()-[]{};:'\"\\,<>./?@#$%^&*_~'''\n",
        "str1=input(\"Enter a string : \")\n",
        "removePunctuations = \"\"\n",
        "\n",
        "for char in str1:\n",
        "  if char not in samplePunctuations:\n",
        "    removePunctuations=removePunctuations + char\n",
        "print(removePunctuations)"
      ],
      "metadata": {
        "colab": {
          "base_uri": "https://localhost:8080/"
        },
        "id": "Uh-X_s34JXsk",
        "outputId": "ef4bbe21-63f1-458f-c550-af3981ee73e5"
      },
      "execution_count": 15,
      "outputs": [
        {
          "output_type": "stream",
          "name": "stdout",
          "text": [
            "Enter a string : Hi! I am, karthik !! & I am working as a technology analyst'\n",
            "Hi I am karthik   I am working as a technology analyst\n"
          ]
        }
      ]
    }
  ]
}