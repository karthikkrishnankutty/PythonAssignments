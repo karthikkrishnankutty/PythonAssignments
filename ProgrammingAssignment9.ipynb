{
  "nbformat": 4,
  "nbformat_minor": 0,
  "metadata": {
    "colab": {
      "provenance": []
    },
    "kernelspec": {
      "name": "python3",
      "display_name": "Python 3"
    },
    "language_info": {
      "name": "python"
    }
  },
  "cells": [
    {
      "cell_type": "markdown",
      "source": [
        "1.\tWrite a Python program to check if the given number is a Disarium Number?"
      ],
      "metadata": {
        "id": "X1WhB68kP8Ya"
      }
    },
    {
      "cell_type": "code",
      "execution_count": 2,
      "metadata": {
        "colab": {
          "base_uri": "https://localhost:8080/"
        },
        "id": "8C2VUgBvP5jk",
        "outputId": "74a0d431-f78d-4643-bf4a-b03ee392a601"
      },
      "outputs": [
        {
          "output_type": "stream",
          "name": "stdout",
          "text": [
            "Enter a number to check if it is a disarium number or not : 89\n",
            "The given number 89 is a disarium Number\n"
          ]
        }
      ],
      "source": [
        "def disariumNumber(num):\n",
        "  temp = 0\n",
        "  for i in range(len(str(num))):\n",
        "    temp += int(str(num)[i]) ** (i+1)\n",
        "  return temp == num\n",
        "\n",
        "num = int(input(\"Enter a number to check if it is a disarium number or not : \"))\n",
        "\n",
        "if disariumNumber(num) == True:\n",
        "  print(f\"The given number {num} is a disarium Number\")\n",
        "else:\n",
        "  print(f\"The given number {num} is not a disarium Number\")"
      ]
    },
    {
      "cell_type": "markdown",
      "source": [
        "2.\tWrite a Python program to print all disarium numbers between 1 to 100?"
      ],
      "metadata": {
        "id": "F4aDP14neATm"
      }
    },
    {
      "cell_type": "code",
      "source": [
        "def calculateLength(value):\n",
        "  len = 0\n",
        "  while(value != 0):\n",
        "    len = len + 1\n",
        "    value = value//10\n",
        "  return len\n",
        "\n",
        "def sumDigit(num):\n",
        "  rem = 0\n",
        "  sum = 0\n",
        "  lenFun = calculateLength(num)\n",
        "  while(num > 0):\n",
        "    rem = num%10\n",
        "    sum = sum + (rem**lenFun)\n",
        "    num = num//10\n",
        "    lenFun = lenFun - 1\n",
        "  return sum\n",
        "\n",
        "res = 0\n",
        "print(\"The disarium numbers between 1 and 100 are : \")\n",
        "for i in range(1,101):\n",
        "  res = sumDigit(i)\n",
        "  if(res == i):\n",
        "    print(i)"
      ],
      "metadata": {
        "colab": {
          "base_uri": "https://localhost:8080/"
        },
        "id": "7TVuZe_adpqp",
        "outputId": "370cb7ef-e13f-40ea-f2cd-c882bc5293d0"
      },
      "execution_count": 3,
      "outputs": [
        {
          "output_type": "stream",
          "name": "stdout",
          "text": [
            "The disarium numbers between 1 and 100 are : \n",
            "1\n",
            "2\n",
            "3\n",
            "4\n",
            "5\n",
            "6\n",
            "7\n",
            "8\n",
            "9\n",
            "89\n"
          ]
        }
      ]
    },
    {
      "cell_type": "markdown",
      "source": [
        "3.\tWrite a Python program to check if the given number is Happy Number?"
      ],
      "metadata": {
        "id": "Q2HPjG0ng4xR"
      }
    },
    {
      "cell_type": "code",
      "source": [
        "def happyNumCheck(num):\n",
        "  rem = 0\n",
        "  sum = 0\n",
        "  while(num > 0):\n",
        "    rem = num % 10\n",
        "    sum = sum + (rem*rem)\n",
        "    num = num // 10\n",
        "  return sum\n",
        "\n",
        "value = int(input(\"Enter a number : \"))\n",
        "res = value\n",
        "while(res !=1 and res !=4):\n",
        "  res = happyNumCheck(res)\n",
        "\n",
        "if (res == 1):\n",
        "  print(f\"The given number {value} is a happy number\")\n",
        "elif (res == 4):\n",
        "  print(f\"The given number {value} is not a happy number\")"
      ],
      "metadata": {
        "colab": {
          "base_uri": "https://localhost:8080/"
        },
        "id": "tI6KRWCkfyiU",
        "outputId": "7fefa0b6-acd4-4de0-9cb6-8a2169953263"
      },
      "execution_count": 7,
      "outputs": [
        {
          "output_type": "stream",
          "name": "stdout",
          "text": [
            "Enter a number : 86\n",
            "The given number 86 is a happy number\n"
          ]
        }
      ]
    },
    {
      "cell_type": "markdown",
      "source": [
        "4.\tWrite a Python program to print all happy numbers between 1 and 100?"
      ],
      "metadata": {
        "id": "H_a6CJnsikMJ"
      }
    },
    {
      "cell_type": "code",
      "source": [
        "def happyNumCheck(num):\n",
        "  rem = 0\n",
        "  sum = 0\n",
        "  while(num > 0):\n",
        "    rem = num % 10\n",
        "    sum = sum + (rem*rem)\n",
        "    num = num // 10\n",
        "  return sum\n",
        "\n",
        "print(\"List of happy numbers between 1 and 100 are :\")\n",
        "for i in range(1,101):\n",
        "  res = i\n",
        "  while(res !=1 and res !=4):\n",
        "    res = happyNumCheck(res)\n",
        "  if(res==1):\n",
        "    print(i) "
      ],
      "metadata": {
        "colab": {
          "base_uri": "https://localhost:8080/"
        },
        "id": "D-Cppy7xh_6W",
        "outputId": "9d8e4fa2-5cbc-46aa-9f8b-ae8beeeee973"
      },
      "execution_count": 8,
      "outputs": [
        {
          "output_type": "stream",
          "name": "stdout",
          "text": [
            "List of happy numbers between 1 and 100 are :\n",
            "1\n",
            "7\n",
            "10\n",
            "13\n",
            "19\n",
            "23\n",
            "28\n",
            "31\n",
            "32\n",
            "44\n",
            "49\n",
            "68\n",
            "70\n",
            "79\n",
            "82\n",
            "86\n",
            "91\n",
            "94\n",
            "97\n",
            "100\n"
          ]
        }
      ]
    },
    {
      "cell_type": "markdown",
      "source": [
        "5.\tWrite a Python program to determine whether the given number is a Harshad Number?"
      ],
      "metadata": {
        "id": "nii9b-uwjZnr"
      }
    },
    {
      "cell_type": "code",
      "source": [
        "num = int(input(\"Enter a value to check if it is Harshad Number or not : \"))\n",
        "rem = 0\n",
        "sum = 0\n",
        "\n",
        "num1=num\n",
        "while(num > 0):\n",
        "  rem = num % 10\n",
        "  sum = sum + rem\n",
        "  num = num // 10\n",
        "\n",
        "if num1%sum == 0:\n",
        "  print(f\"The given number {num1} is a Harshad Number\")\n",
        "else:\n",
        "    print(f\"The given number {num1} is not a Harshad Number\")"
      ],
      "metadata": {
        "colab": {
          "base_uri": "https://localhost:8080/"
        },
        "id": "lzZhbnnKjJLh",
        "outputId": "8653ba47-2b05-46a6-a5d6-0431a6012d35"
      },
      "execution_count": 12,
      "outputs": [
        {
          "output_type": "stream",
          "name": "stdout",
          "text": [
            "Enter a value to check if it is Harshad Number or not : 156\n",
            "The given number 156 is a Harshad Number\n"
          ]
        }
      ]
    },
    {
      "cell_type": "markdown",
      "source": [
        "6.\tWrite a Python program to print all pronic numbers between 1 and 100?"
      ],
      "metadata": {
        "id": "PO6rlkoIkp2-"
      }
    },
    {
      "cell_type": "code",
      "source": [
        "def pronicNumber(num):\n",
        "  flag = False\n",
        "  for i in range(1, num + 1):\n",
        "    if (i*(i+1)==num):\n",
        "      flag = True\n",
        "      break\n",
        "  return flag\n",
        "\n",
        "print(\"The pronic numbers between 1 and 100 are : \")\n",
        "for i in range(1,101):\n",
        "  if(pronicNumber(i)):\n",
        "    print(i)"
      ],
      "metadata": {
        "colab": {
          "base_uri": "https://localhost:8080/"
        },
        "id": "-Z3CKfuOkSGj",
        "outputId": "bf65ef1c-c797-461a-b1a8-f0104509b82a"
      },
      "execution_count": 14,
      "outputs": [
        {
          "output_type": "stream",
          "name": "stdout",
          "text": [
            "The pronic numbers between 1 and 100 are : \n",
            "2\n",
            "6\n",
            "12\n",
            "20\n",
            "30\n",
            "42\n",
            "56\n",
            "72\n",
            "90\n"
          ]
        }
      ]
    }
  ]
}