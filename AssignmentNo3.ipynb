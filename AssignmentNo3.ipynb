{
  "nbformat": 4,
  "nbformat_minor": 0,
  "metadata": {
    "colab": {
      "provenance": []
    },
    "kernelspec": {
      "name": "python3",
      "display_name": "Python 3"
    },
    "language_info": {
      "name": "python"
    }
  },
  "cells": [
    {
      "cell_type": "markdown",
      "source": [
        "1. Why are functions advantageous to have in your programs?"
      ],
      "metadata": {
        "id": "Za31lc29Z7_U"
      }
    },
    {
      "cell_type": "markdown",
      "source": [
        "The functions in python makes the program more readable. The main purpose of the function is to achieve the reusability. If we want to execute couple of statements in a program, we can keep those statements inside a function and we can call the function whenever we want to perform the same set of operations. Functions keep the program structured, understandable and reusable.  "
      ],
      "metadata": {
        "id": "czBlLAMoaICn"
      }
    },
    {
      "cell_type": "markdown",
      "source": [
        "2. When does the code in a function run: when it's specified or when it's called?"
      ],
      "metadata": {
        "id": "3Uwc0ElwbIzU"
      }
    },
    {
      "cell_type": "markdown",
      "source": [
        "The codes which are specified inside a run() function will be executed only when it is called."
      ],
      "metadata": {
        "id": "uMl1F_FibKCk"
      }
    },
    {
      "cell_type": "code",
      "source": [
        "def run():                           # We are defining the function here.\n",
        "  print(\"Testing of run function\") "
      ],
      "metadata": {
        "id": "5_w0OGd7bZd5"
      },
      "execution_count": 1,
      "outputs": []
    },
    {
      "cell_type": "code",
      "source": [
        "run()                               # Print statement inside a run() function executed only when its called."
      ],
      "metadata": {
        "colab": {
          "base_uri": "https://localhost:8080/"
        },
        "id": "dFhuFOG5blrC",
        "outputId": "dcf588d5-6361-4b8a-ec44-28f1c839df62"
      },
      "execution_count": 2,
      "outputs": [
        {
          "output_type": "stream",
          "name": "stdout",
          "text": [
            "Testing of run function\n"
          ]
        }
      ]
    },
    {
      "cell_type": "markdown",
      "source": [
        "  3. What statement creates a function?"
      ],
      "metadata": {
        "id": "TqvLKvMzbxwa"
      }
    },
    {
      "cell_type": "markdown",
      "source": [
        "Function in python can be created by starting with the keyword 'def' followed by the name of the function and a set of paranthesis which can hold any parameters which need to be passed while calling the function. It is not mandatory that all the functions should have the parameters. Finally the function declaration ends with a colon (:)\n",
        "\n",
        "Example :  def addValues(a,b):"
      ],
      "metadata": {
        "id": "fT_YI9EBb_I6"
      }
    },
    {
      "cell_type": "markdown",
      "source": [
        "4. What is the difference between a function and a function call?"
      ],
      "metadata": {
        "id": "kNyxiir8cqAY"
      }
    },
    {
      "cell_type": "markdown",
      "source": [
        "Function:\n",
        "\n",
        "Function is a set of code that performs a particular operation and provides a result. It accepts inputs as parameters and returns as a result."
      ],
      "metadata": {
        "id": "z8QqUkwLc3cA"
      }
    },
    {
      "cell_type": "code",
      "source": [
        "def addValues(a,b):\n",
        "  return a + b"
      ],
      "metadata": {
        "id": "uEJbag6Kb4TQ"
      },
      "execution_count": 3,
      "outputs": []
    },
    {
      "cell_type": "markdown",
      "source": [
        "Function call:\n",
        "\n",
        "It is used to execute the set of statements defined inside a function body. It usually pass the control to a function."
      ],
      "metadata": {
        "id": "sBt__9midO9A"
      }
    },
    {
      "cell_type": "code",
      "source": [
        "addValues(23,45)"
      ],
      "metadata": {
        "colab": {
          "base_uri": "https://localhost:8080/"
        },
        "id": "BV5KePUedd3g",
        "outputId": "f75951a0-6acc-4aa1-9e3a-d4beb4531123"
      },
      "execution_count": 4,
      "outputs": [
        {
          "output_type": "execute_result",
          "data": {
            "text/plain": [
              "68"
            ]
          },
          "metadata": {},
          "execution_count": 4
        }
      ]
    },
    {
      "cell_type": "markdown",
      "source": [
        "5. How many global scopes are there in a Python program? How many local scopes?"
      ],
      "metadata": {
        "id": "mr5n2KBRdiEQ"
      }
    },
    {
      "cell_type": "markdown",
      "source": [
        "Global scopes:\n",
        "\n",
        "Variables which are defined outside a function body are having global scopes.\n",
        "There will be only one global scope for the entire program. It remains exist \n",
        "until the program ends.\n",
        "\n",
        "Local scopes:\n",
        "\n",
        "Variables which are defined inside a function body are having local scopes. At any time of program execution, we will have four python scopes.\n",
        "\n",
        "1.   local\n",
        "2.   enclosing\n",
        "3.   global\n",
        "4.   built in\n",
        "\n"
      ],
      "metadata": {
        "id": "lGeSVUTwdmmb"
      }
    },
    {
      "cell_type": "markdown",
      "source": [
        "6. What happens to variables in a local scope when the function call returns?"
      ],
      "metadata": {
        "id": "5ZZI8dF2fFUL"
      }
    },
    {
      "cell_type": "markdown",
      "source": [
        "The variables which are defined inside a function body are said to be having local scopes and these will be destroyed once the execution of function completes."
      ],
      "metadata": {
        "id": "LXxUJfm-fWnk"
      }
    },
    {
      "cell_type": "markdown",
      "source": [
        "7. What is the concept of a return value? Is it possible to have a return value in an expression?"
      ],
      "metadata": {
        "id": "JpY-7-vzfhcG"
      }
    },
    {
      "cell_type": "markdown",
      "source": [
        "The value that the function returns to the caller of the function is called as return value. Any python function will have a return value by default. If we don't use the return statement explicitly, python will implicitly return a default value of None."
      ],
      "metadata": {
        "id": "XS55_Ccaf3-z"
      }
    },
    {
      "cell_type": "code",
      "source": [
        "def returnPrint():\n",
        "  print(\"This function is used only for printing\")"
      ],
      "metadata": {
        "id": "bSeLlrrHgVPf"
      },
      "execution_count": 5,
      "outputs": []
    },
    {
      "cell_type": "code",
      "source": [
        "returnPrint()"
      ],
      "metadata": {
        "colab": {
          "base_uri": "https://localhost:8080/"
        },
        "id": "mz0Kr7uMggqb",
        "outputId": "0ec210f2-dcac-484f-b7d0-d62bb6779ec4"
      },
      "execution_count": 6,
      "outputs": [
        {
          "output_type": "stream",
          "name": "stdout",
          "text": [
            "This function is used only for printing\n"
          ]
        }
      ]
    },
    {
      "cell_type": "markdown",
      "source": [
        "8. If a function does not have a return statement, what is the return value of a call to that function?"
      ],
      "metadata": {
        "id": "iHA9h9CNhHlU"
      }
    },
    {
      "cell_type": "markdown",
      "source": [
        "If we didnt specify the return statement inside a function body, python will return a default value of None."
      ],
      "metadata": {
        "id": "YbXhj1zhhVeE"
      }
    },
    {
      "cell_type": "code",
      "source": [
        "def mulValues(a=20, b=30):\n",
        "  a * b"
      ],
      "metadata": {
        "id": "2Txt_HszgiWV"
      },
      "execution_count": 7,
      "outputs": []
    },
    {
      "cell_type": "code",
      "source": [
        "c= mulValues()"
      ],
      "metadata": {
        "id": "shmFoig_hmWW"
      },
      "execution_count": 9,
      "outputs": []
    },
    {
      "cell_type": "code",
      "source": [
        "type(c)"
      ],
      "metadata": {
        "colab": {
          "base_uri": "https://localhost:8080/"
        },
        "id": "a9As2eFUhoVE",
        "outputId": "5955cfd2-7751-4d2f-f980-91b8e14c8dc7"
      },
      "execution_count": 11,
      "outputs": [
        {
          "output_type": "execute_result",
          "data": {
            "text/plain": [
              "NoneType"
            ]
          },
          "metadata": {},
          "execution_count": 11
        }
      ]
    },
    {
      "cell_type": "markdown",
      "source": [
        "9. How do you make a function variable refer to the global variable?"
      ],
      "metadata": {
        "id": "O0NEIJvAiEpS"
      }
    },
    {
      "cell_type": "markdown",
      "source": [
        "When we create a variable inside a function, this variable is local and can only be used inside a function. To make this local variable to global variable, we need to use the keyword 'global' before the function name."
      ],
      "metadata": {
        "id": "k37f4yVxiQfg"
      }
    },
    {
      "cell_type": "code",
      "source": [
        "def globalVariable():\n",
        "  global x                # the variable x is now a global variable and can be accessed outside of the function body as well."
      ],
      "metadata": {
        "id": "zzhD-NkIipo8"
      },
      "execution_count": null,
      "outputs": []
    },
    {
      "cell_type": "markdown",
      "source": [
        "10. What is the data type of None?"
      ],
      "metadata": {
        "id": "c9y8jpoFi-jD"
      }
    },
    {
      "cell_type": "markdown",
      "source": [
        "None is the dataype of its own (NoneType)"
      ],
      "metadata": {
        "id": "7EcUS7_qjAYk"
      }
    },
    {
      "cell_type": "markdown",
      "source": [
        "11. What does the sentence import areallyourpetsnamederic do?"
      ],
      "metadata": {
        "id": "QVM4X49ZjSDj"
      }
    },
    {
      "cell_type": "markdown",
      "source": [
        "import areallyourpetsnamederic\n",
        "\n",
        "The above statement imports the module named areallyourpetsnamederic inside the python program."
      ],
      "metadata": {
        "id": "c6rJp3t3jTsa"
      }
    },
    {
      "cell_type": "markdown",
      "source": [
        "12. If you had a bacon() feature in a spam module, what would you call it after importing spam?"
      ],
      "metadata": {
        "id": "WSqwe1W9kOd5"
      }
    },
    {
      "cell_type": "markdown",
      "source": [
        "Firstly we need to import the module spam into our program.\n",
        "By using the dot operator (.) we can call all the features available inside the module."
      ],
      "metadata": {
        "id": "h2fpNWuBkU9f"
      }
    },
    {
      "cell_type": "code",
      "source": [
        "import spam\n",
        "\n",
        "spam.bacon()"
      ],
      "metadata": {
        "id": "MGbXCajiht45"
      },
      "execution_count": null,
      "outputs": []
    },
    {
      "cell_type": "markdown",
      "source": [
        "13. What can you do to save a programme from crashing if it encounters an error?"
      ],
      "metadata": {
        "id": "ooAyEWKWkpcj"
      }
    },
    {
      "cell_type": "markdown",
      "source": [
        "If an error occurs in a program, we don’t want the program to unexpectedly crash. Instead, error handling like (try-except and try-except-finally) can be used to notify the user of why the error occurred and gracefully exit the process that caused the error."
      ],
      "metadata": {
        "id": "0qyii7OKlBEq"
      }
    },
    {
      "cell_type": "markdown",
      "source": [
        "14. What is the purpose of the try clause? What is the purpose of the except clause?"
      ],
      "metadata": {
        "id": "cSTHSBDClTi-"
      }
    },
    {
      "cell_type": "markdown",
      "source": [
        "Try:\n",
        "\n",
        "This try clause is used for testing the block code which may cause the errors.\n",
        "\n",
        "Except:\n",
        "\n",
        "This except clause is used for handling the errors which are identified as part of try block."
      ],
      "metadata": {
        "id": "ng7oChx_lbHr"
      }
    }
  ]
}