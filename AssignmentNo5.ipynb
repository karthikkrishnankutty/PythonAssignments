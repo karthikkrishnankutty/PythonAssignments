{
  "nbformat": 4,
  "nbformat_minor": 0,
  "metadata": {
    "colab": {
      "provenance": []
    },
    "kernelspec": {
      "name": "python3",
      "display_name": "Python 3"
    },
    "language_info": {
      "name": "python"
    }
  },
  "cells": [
    {
      "cell_type": "markdown",
      "source": [
        "1. What does an empty dictionary's code look like?"
      ],
      "metadata": {
        "id": "RDKE5RQj2dhC"
      }
    },
    {
      "cell_type": "markdown",
      "source": [
        "An empty dictionary does not have any values inside in it except the curly braces."
      ],
      "metadata": {
        "id": "WH1QDvtI236T"
      }
    },
    {
      "cell_type": "code",
      "execution_count": null,
      "metadata": {
        "colab": {
          "base_uri": "https://localhost:8080/"
        },
        "id": "HbGW2LRG2Wqs",
        "outputId": "27f2a137-1dc3-4d54-fbdb-7c8f81e60d87"
      },
      "outputs": [
        {
          "output_type": "stream",
          "name": "stdout",
          "text": [
            "{}\n",
            "<class 'dict'>\n"
          ]
        }
      ],
      "source": [
        "sampleDictionary1 = {}\n",
        "print(sampleDictionary1)\n",
        "print(type(sampleDictionary1))"
      ]
    },
    {
      "cell_type": "code",
      "source": [
        "sampleDictionary2 = dict()\n",
        "print(sampleDictionary2)\n",
        "print(type(sampleDictionary2))"
      ],
      "metadata": {
        "colab": {
          "base_uri": "https://localhost:8080/"
        },
        "id": "GTt63OGy3Hsr",
        "outputId": "7dad9f7d-bd5d-43cd-b950-213fec56891e"
      },
      "execution_count": null,
      "outputs": [
        {
          "output_type": "stream",
          "name": "stdout",
          "text": [
            "{}\n",
            "<class 'dict'>\n"
          ]
        }
      ]
    },
    {
      "cell_type": "markdown",
      "source": [
        "2. What is the value of a dictionary value with the key 'foo' and the value 42?"
      ],
      "metadata": {
        "id": "EESb80Yg3lUv"
      }
    },
    {
      "cell_type": "code",
      "source": [
        "sampleDictionary3 = {'foo':42}\n",
        "print(sampleDictionary3)"
      ],
      "metadata": {
        "colab": {
          "base_uri": "https://localhost:8080/"
        },
        "id": "yIagKN7C3fMI",
        "outputId": "9d637774-a3df-4dee-cf9a-81a3b2af6689"
      },
      "execution_count": null,
      "outputs": [
        {
          "output_type": "stream",
          "name": "stdout",
          "text": [
            "{'foo': 42}\n"
          ]
        }
      ]
    },
    {
      "cell_type": "markdown",
      "source": [
        "3. What is the most significant distinction between a dictionary and a list?"
      ],
      "metadata": {
        "id": "CHVhZIKj39_O"
      }
    },
    {
      "cell_type": "markdown",
      "source": [
        "The values present in list are ordered whereas the values present in dictionary are unordered.\n",
        "\n",
        "The values stored in a list are accessed by their index of the list. On the other hand, the values are stored in dictionary based on key-value pair."
      ],
      "metadata": {
        "id": "r3hCE-1J4N6I"
      }
    },
    {
      "cell_type": "code",
      "source": [
        "sampleList = [1,2,3,4,5,6]\n",
        "sampleDictionary = {'name':'karthik','gender':'male','mailid':'karthikkrishnankutty@gmail.com','mobile':'95223433'}"
      ],
      "metadata": {
        "id": "9_bBjn9f37DG"
      },
      "execution_count": 9,
      "outputs": []
    },
    {
      "cell_type": "markdown",
      "source": [
        "4. What happens if you try to access spam['foo'] if spam is {'bar': 100}?"
      ],
      "metadata": {
        "id": "TdwiSJUs7zIj"
      }
    },
    {
      "cell_type": "markdown",
      "source": [
        "We will get a the error KeyError as they key 'foo' is not present in the dictionary spam."
      ],
      "metadata": {
        "id": "9GjW74Kx8ZdI"
      }
    },
    {
      "cell_type": "code",
      "source": [
        "spam = {'bar':100}\n",
        "spam['foo']"
      ],
      "metadata": {
        "id": "vaibPYjN4idt",
        "colab": {
          "base_uri": "https://localhost:8080/",
          "height": 182
        },
        "outputId": "75fb3410-2454-4fb5-9d12-9a1fe8e40b35"
      },
      "execution_count": 10,
      "outputs": [
        {
          "output_type": "error",
          "ename": "KeyError",
          "evalue": "ignored",
          "traceback": [
            "\u001b[0;31m---------------------------------------------------------------------------\u001b[0m",
            "\u001b[0;31mKeyError\u001b[0m                                  Traceback (most recent call last)",
            "\u001b[0;32m<ipython-input-10-cea1cd791e68>\u001b[0m in \u001b[0;36m<module>\u001b[0;34m\u001b[0m\n\u001b[1;32m      1\u001b[0m \u001b[0mspam\u001b[0m \u001b[0;34m=\u001b[0m \u001b[0;34m{\u001b[0m\u001b[0;34m'bar'\u001b[0m\u001b[0;34m:\u001b[0m\u001b[0;36m100\u001b[0m\u001b[0;34m}\u001b[0m\u001b[0;34m\u001b[0m\u001b[0;34m\u001b[0m\u001b[0m\n\u001b[0;32m----> 2\u001b[0;31m \u001b[0mspam\u001b[0m\u001b[0;34m[\u001b[0m\u001b[0;34m'foo'\u001b[0m\u001b[0;34m]\u001b[0m\u001b[0;34m\u001b[0m\u001b[0;34m\u001b[0m\u001b[0m\n\u001b[0m",
            "\u001b[0;31mKeyError\u001b[0m: 'foo'"
          ]
        }
      ]
    },
    {
      "cell_type": "markdown",
      "source": [
        "5. If a dictionary is stored in spam, what is the difference between the expressions 'cat' in spam and 'cat' in spam.keys()?"
      ],
      "metadata": {
        "id": "rntpfYqy9iK1"
      }
    },
    {
      "cell_type": "markdown",
      "source": [
        "There is no difference between these two expressions as both of them looking for a key named 'cat' present in the dictionary spam or not."
      ],
      "metadata": {
        "id": "I-cBrO9l9jyq"
      }
    },
    {
      "cell_type": "markdown",
      "source": [
        "6. If a dictionary is stored in spam, what is the difference between the expressions 'cat' in spam and 'cat' in spam.values()?"
      ],
      "metadata": {
        "id": "2VKkcQkM8l2G"
      }
    },
    {
      "cell_type": "markdown",
      "source": [
        "'cat' in spam -> This will check if there are any key present labelled 'cat' inside the dictionary called spam.\n",
        "\n",
        "'cat' in spam.values() -> This will check if there are values present as 'cat' for any of the keys inside the dictionary called spam."
      ],
      "metadata": {
        "id": "ewl4BFoU867w"
      }
    },
    {
      "cell_type": "markdown",
      "source": [
        "7. What is a shortcut for the following code?\n",
        "\n",
        "if 'color' not in spam:\n",
        "\n",
        "spam['color'] = 'black'\n"
      ],
      "metadata": {
        "id": "uNesft2z-N44"
      }
    },
    {
      "cell_type": "code",
      "source": [
        "spam.setdefault('color','black')\n",
        "spam"
      ],
      "metadata": {
        "colab": {
          "base_uri": "https://localhost:8080/"
        },
        "id": "6Wa4OYk678WX",
        "outputId": "178dfa82-34b5-438f-9564-48ab2c8a639b"
      },
      "execution_count": 14,
      "outputs": [
        {
          "output_type": "execute_result",
          "data": {
            "text/plain": [
              "{'bar': 100, 'color': 'black'}"
            ]
          },
          "metadata": {},
          "execution_count": 14
        }
      ]
    },
    {
      "cell_type": "markdown",
      "source": [
        "8. How do you \"pretty print\" dictionary values using which module and function?"
      ],
      "metadata": {
        "id": "VYnxljTG-7yA"
      }
    },
    {
      "cell_type": "code",
      "source": [
        "import pprint\n",
        "sampleDictionary = {'name':'karthik','gender':'male','mailid':'karthikkrishnankutty@gmail.com','mobile':'95223433'}\n",
        "pprint.pprint(sampleDictionary)"
      ],
      "metadata": {
        "colab": {
          "base_uri": "https://localhost:8080/"
        },
        "id": "7f_cMy_B-lT7",
        "outputId": "d9756b83-09fb-49af-abf3-e33627524162"
      },
      "execution_count": 4,
      "outputs": [
        {
          "output_type": "stream",
          "name": "stdout",
          "text": [
            "{'gender': 'male',\n",
            " 'mailid': 'karthikkrishnankutty@gmail.com',\n",
            " 'mobile': '95223433',\n",
            " 'name': 'karthik'}\n"
          ]
        }
      ]
    },
    {
      "cell_type": "code",
      "source": [],
      "metadata": {
        "id": "LK8yqQ0o_UBX"
      },
      "execution_count": null,
      "outputs": []
    }
  ]
}