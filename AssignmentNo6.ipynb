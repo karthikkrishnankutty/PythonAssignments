{
  "nbformat": 4,
  "nbformat_minor": 0,
  "metadata": {
    "colab": {
      "provenance": []
    },
    "kernelspec": {
      "name": "python3",
      "display_name": "Python 3"
    },
    "language_info": {
      "name": "python"
    }
  },
  "cells": [
    {
      "cell_type": "markdown",
      "source": [
        "1. What are escape characters, and how do you use them?"
      ],
      "metadata": {
        "id": "VQ13fBiRM4jQ"
      }
    },
    {
      "cell_type": "markdown",
      "source": [
        "Escape characters invoke an alternate interpretation on the following characters in a character sequence or string. \n",
        "\n",
        "To insert the characters which are illegal in a string, escape characters are used. \n",
        "\n",
        "Escape characters are a ( \\ ) backslash followed by the character which we want to insert"
      ],
      "metadata": {
        "id": "akGFJNmZN15n"
      }
    },
    {
      "cell_type": "markdown",
      "source": [
        "2. What do the escape characters n and t stand for?"
      ],
      "metadata": {
        "id": "lnelMy_LOutw"
      }
    },
    {
      "cell_type": "markdown",
      "source": [
        "\\n - Represents a new line\n",
        "\n",
        "\\t - Represents a horizontal tab"
      ],
      "metadata": {
        "id": "8euNcjqNOvwz"
      }
    },
    {
      "cell_type": "markdown",
      "source": [
        "3. What is the way to include backslash characters in a string?"
      ],
      "metadata": {
        "id": "onMAO6UuO81v"
      }
    },
    {
      "cell_type": "markdown",
      "source": [
        "\\\\\\ - Represents a backslash character in a string."
      ],
      "metadata": {
        "id": "3kiGJAmmPd7X"
      }
    },
    {
      "cell_type": "markdown",
      "source": [
        "4. The string \"Howl's Moving Castle\" is a correct value. Why isn't the single quote character in the word Howl's not escaped a problem?"
      ],
      "metadata": {
        "id": "2GVlPeGEQJLT"
      }
    },
    {
      "cell_type": "markdown",
      "source": [
        "As we have used double quotes at the front and back of the string, we are not facing any problem with the single quote."
      ],
      "metadata": {
        "id": "5b4Vd5nWQUgV"
      }
    },
    {
      "cell_type": "code",
      "source": [
        "str1 = \"Howl's Moving Castle\"\n",
        "str1"
      ],
      "metadata": {
        "colab": {
          "base_uri": "https://localhost:8080/",
          "height": 36
        },
        "id": "oh4PWK_9Qhsl",
        "outputId": "88dec62e-0177-4f1c-b759-eeac1e645320"
      },
      "execution_count": 3,
      "outputs": [
        {
          "output_type": "execute_result",
          "data": {
            "text/plain": [
              "\"Howl's Moving Castle\""
            ],
            "application/vnd.google.colaboratory.intrinsic+json": {
              "type": "string"
            }
          },
          "metadata": {},
          "execution_count": 3
        }
      ]
    },
    {
      "cell_type": "code",
      "source": [
        "#As we are using single quotes in the below example, we are getting syntax error.\n",
        "str2 = 'Howl's Moving Caste'  "
      ],
      "metadata": {
        "colab": {
          "base_uri": "https://localhost:8080/",
          "height": 130
        },
        "id": "Sp9p8qdLQmpC",
        "outputId": "3ec8f48f-cad3-4a37-ccdd-cb8ac6101fcf"
      },
      "execution_count": 5,
      "outputs": [
        {
          "output_type": "error",
          "ename": "SyntaxError",
          "evalue": "ignored",
          "traceback": [
            "\u001b[0;36m  File \u001b[0;32m\"<ipython-input-5-afff2c9227ea>\"\u001b[0;36m, line \u001b[0;32m1\u001b[0m\n\u001b[0;31m    str2 = 'Howl's Moving Caste'\u001b[0m\n\u001b[0m                 ^\u001b[0m\n\u001b[0;31mSyntaxError\u001b[0m\u001b[0;31m:\u001b[0m invalid syntax\n"
          ]
        }
      ]
    },
    {
      "cell_type": "markdown",
      "source": [
        "5. How do you write a string of newlines if you don't want to use the n character?"
      ],
      "metadata": {
        "id": "hYjW0hppQ3o2"
      }
    },
    {
      "cell_type": "markdown",
      "source": [
        "Multiline comments helps us to use the strings in newlines without using the \\n escape character"
      ],
      "metadata": {
        "id": "SZhpJcskQ-lt"
      }
    },
    {
      "cell_type": "code",
      "source": [
        "str3 = \"\"\"My Name is Karthik\n",
        "      I am from Kerala\n",
        "      I am a Technology Analyst in Infosys\"\"\""
      ],
      "metadata": {
        "id": "DWzlNSpHQqZl"
      },
      "execution_count": 9,
      "outputs": []
    },
    {
      "cell_type": "code",
      "source": [
        "str4 = \"My Name is Karthik\"\n",
        "str5 = \"I am from Kerala\"\n",
        "str6 = \"I am a Technology Analyst in Infosys\"\n",
        "print(str4)\n",
        "print(str5)\n",
        "print(str6)"
      ],
      "metadata": {
        "colab": {
          "base_uri": "https://localhost:8080/"
        },
        "id": "mWQWUEDJRWge",
        "outputId": "17dda2a2-2512-4519-b914-7ce107c0ef2d"
      },
      "execution_count": 10,
      "outputs": [
        {
          "output_type": "stream",
          "name": "stdout",
          "text": [
            "My Name is Karthik\n",
            "I am from Kerala\n",
            "I am a Technology Analyst in Infosys\n"
          ]
        }
      ]
    },
    {
      "cell_type": "markdown",
      "source": [
        "6. What are the values of the given expressions?\n",
        "\n",
        "'Hello, world!'[1]\n",
        "\n",
        "'Hello, world!'[0:5]\n",
        "\n",
        "'Hello, world!'[:5]\n",
        "\n",
        "'Hello, world!'[3:]\n",
        "\n"
      ],
      "metadata": {
        "id": "6sQLXYqNS-yw"
      }
    },
    {
      "cell_type": "code",
      "source": [
        "print('Hello, world!'[1])  #This will return the character at the first index"
      ],
      "metadata": {
        "colab": {
          "base_uri": "https://localhost:8080/"
        },
        "id": "KW7RjzM2S1pG",
        "outputId": "749ee0e5-7133-487a-8b37-25793eab5495"
      },
      "execution_count": 12,
      "outputs": [
        {
          "output_type": "stream",
          "name": "stdout",
          "text": [
            "e\n"
          ]
        }
      ]
    },
    {
      "cell_type": "code",
      "source": [
        "print('Hello, world!'[0:5]) #This will return the characters which are present from 0th index to 4th index"
      ],
      "metadata": {
        "colab": {
          "base_uri": "https://localhost:8080/"
        },
        "id": "aFusyJM4TNe9",
        "outputId": "a256a32d-7c2d-4af4-f0fc-078bb1a33143"
      },
      "execution_count": 13,
      "outputs": [
        {
          "output_type": "stream",
          "name": "stdout",
          "text": [
            "Hello\n"
          ]
        }
      ]
    },
    {
      "cell_type": "code",
      "source": [
        "print('Hello, world!'[:5]) #This will return the characters till the 4th index in a string"
      ],
      "metadata": {
        "colab": {
          "base_uri": "https://localhost:8080/"
        },
        "id": "c5pB7RHFTgIj",
        "outputId": "61cc1e94-fc1b-4075-b36c-959059b8b38f"
      },
      "execution_count": 14,
      "outputs": [
        {
          "output_type": "stream",
          "name": "stdout",
          "text": [
            "Hello\n"
          ]
        }
      ]
    },
    {
      "cell_type": "code",
      "source": [
        "print('Hello, world!'[3:]) #This will return the characters in a string from 3rd index"
      ],
      "metadata": {
        "colab": {
          "base_uri": "https://localhost:8080/"
        },
        "id": "IDG5QtGHTmcp",
        "outputId": "60ebc2af-ec7d-4219-9d31-b5e4156250d1"
      },
      "execution_count": 15,
      "outputs": [
        {
          "output_type": "stream",
          "name": "stdout",
          "text": [
            "lo, world!\n"
          ]
        }
      ]
    },
    {
      "cell_type": "markdown",
      "source": [
        "7. What are the values of the following expressions?\n",
        "\n",
        "'Hello'.upper()\n",
        "\n",
        "'Hello'.upper().isupper()\n",
        "\n",
        "'Hello'.upper().lower()\n"
      ],
      "metadata": {
        "id": "AVOpoT3sUE8B"
      }
    },
    {
      "cell_type": "code",
      "source": [
        "print('Hello'.upper()) #This will convert the entire string to Uppercase"
      ],
      "metadata": {
        "colab": {
          "base_uri": "https://localhost:8080/"
        },
        "id": "Z4mmzb8ST4qI",
        "outputId": "ac18acf7-b4aa-43a4-db54-b3ad16bac6f5"
      },
      "execution_count": 16,
      "outputs": [
        {
          "output_type": "stream",
          "name": "stdout",
          "text": [
            "HELLO\n"
          ]
        }
      ]
    },
    {
      "cell_type": "code",
      "source": [
        "print('Hello'.upper().isupper()) #This will first convert the entire string to Uppercase and since all the characters inside the string are uppercase, it will return true"
      ],
      "metadata": {
        "colab": {
          "base_uri": "https://localhost:8080/"
        },
        "id": "mBDsdNqqUM6X",
        "outputId": "f88740bf-5259-47a5-dce6-bcb7351d66bc"
      },
      "execution_count": 17,
      "outputs": [
        {
          "output_type": "stream",
          "name": "stdout",
          "text": [
            "True\n"
          ]
        }
      ]
    },
    {
      "cell_type": "code",
      "source": [
        "print('Hello'.upper().lower()) #This will first convert the entire string to Uppercase and then convert the resulted string to Lowercase"
      ],
      "metadata": {
        "colab": {
          "base_uri": "https://localhost:8080/"
        },
        "id": "T3Us-qpgUfuK",
        "outputId": "de170ebe-9964-466c-e445-ecd266274013"
      },
      "execution_count": 18,
      "outputs": [
        {
          "output_type": "stream",
          "name": "stdout",
          "text": [
            "hello\n"
          ]
        }
      ]
    },
    {
      "cell_type": "markdown",
      "source": [
        "8. What are the values of the following expressions?\n",
        "\n",
        "'Remember, remember, the fifth of July.'.split()\n",
        "\n",
        "'-'.join('There can only one.'.split())\n"
      ],
      "metadata": {
        "id": "z5gR9xYLU59P"
      }
    },
    {
      "cell_type": "code",
      "source": [
        "print('Remember, remember, the fifth of July.'.split())\n",
        "str7='-'.join('There can only one.'.split())\n",
        "print(str7)"
      ],
      "metadata": {
        "colab": {
          "base_uri": "https://localhost:8080/"
        },
        "id": "mb8m13IDU0SH",
        "outputId": "ca147076-5e5f-475e-b56b-60e5c0bf718c"
      },
      "execution_count": 20,
      "outputs": [
        {
          "output_type": "stream",
          "name": "stdout",
          "text": [
            "['Remember,', 'remember,', 'the', 'fifth', 'of', 'July.']\n",
            "There-can-only-one.\n"
          ]
        }
      ]
    },
    {
      "cell_type": "markdown",
      "source": [
        "9. What are the methods for right-justifying, left-justifying, and centering a string?"
      ],
      "metadata": {
        "id": "1H1cmMrMVx6f"
      }
    },
    {
      "cell_type": "code",
      "source": [
        "str8='Hello!!!!!'\n",
        "x = str8.rjust(20,'*') #This is used for right justification\n",
        "print(x)"
      ],
      "metadata": {
        "colab": {
          "base_uri": "https://localhost:8080/"
        },
        "id": "i2MQOQzCVh2F",
        "outputId": "b9fc1dde-cab0-4c6c-ed2f-bafffa80adc7"
      },
      "execution_count": 31,
      "outputs": [
        {
          "output_type": "stream",
          "name": "stdout",
          "text": [
            "**********Hello!!!!!\n"
          ]
        }
      ]
    },
    {
      "cell_type": "code",
      "source": [
        "str9='Hello!!!!!'\n",
        "x = str8.ljust(20,'*') #This is used for left justification\n",
        "print(x)"
      ],
      "metadata": {
        "colab": {
          "base_uri": "https://localhost:8080/"
        },
        "id": "Jax1C7tjV9Vb",
        "outputId": "82f1192a-a40f-4349-c21c-0dde0c34ece4"
      },
      "execution_count": 32,
      "outputs": [
        {
          "output_type": "stream",
          "name": "stdout",
          "text": [
            "Hello!!!!!**********\n"
          ]
        }
      ]
    },
    {
      "cell_type": "code",
      "source": [
        "str10='Hello!!!!!'\n",
        "x = str8.center(20,'*') #This is used for left justification\n",
        "print(x)"
      ],
      "metadata": {
        "colab": {
          "base_uri": "https://localhost:8080/"
        },
        "id": "B56gzdoCWzr_",
        "outputId": "1cb3165e-4dbb-455e-a1de-6383892213c8"
      },
      "execution_count": 33,
      "outputs": [
        {
          "output_type": "stream",
          "name": "stdout",
          "text": [
            "*****Hello!!!!!*****\n"
          ]
        }
      ]
    },
    {
      "cell_type": "markdown",
      "source": [
        "10. What is the best way to remove whitespace characters from the start or end?"
      ],
      "metadata": {
        "id": "8J8mGY7sXU6C"
      }
    },
    {
      "cell_type": "code",
      "source": [
        "str11=\"    Karthik****\"\n",
        "print(str11.lstrip())"
      ],
      "metadata": {
        "colab": {
          "base_uri": "https://localhost:8080/"
        },
        "id": "zXg40zS4XK2b",
        "outputId": "47320a6f-3b71-4e6a-b626-c147f530704e"
      },
      "execution_count": 35,
      "outputs": [
        {
          "output_type": "stream",
          "name": "stdout",
          "text": [
            "Karthik****\n"
          ]
        }
      ]
    },
    {
      "cell_type": "code",
      "source": [
        "str12=\"****Karthik    \"\n",
        "print(str12.rstrip())"
      ],
      "metadata": {
        "colab": {
          "base_uri": "https://localhost:8080/"
        },
        "id": "P7zRehqhXy6m",
        "outputId": "ac84d592-0228-4d9e-edd3-f0409194bcbb"
      },
      "execution_count": 36,
      "outputs": [
        {
          "output_type": "stream",
          "name": "stdout",
          "text": [
            "****Karthik\n"
          ]
        }
      ]
    }
  ]
}