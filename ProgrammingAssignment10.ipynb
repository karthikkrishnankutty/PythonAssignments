{
  "nbformat": 4,
  "nbformat_minor": 0,
  "metadata": {
    "colab": {
      "provenance": []
    },
    "kernelspec": {
      "name": "python3",
      "display_name": "Python 3"
    },
    "language_info": {
      "name": "python"
    }
  },
  "cells": [
    {
      "cell_type": "markdown",
      "source": [
        "1.\tWrite a Python program to find sum of elements in list?"
      ],
      "metadata": {
        "id": "yeDT6ldwpr6q"
      }
    },
    {
      "cell_type": "code",
      "execution_count": 2,
      "metadata": {
        "colab": {
          "base_uri": "https://localhost:8080/"
        },
        "id": "nRZFh3mFpRwb",
        "outputId": "2acd8c7f-17ab-47e9-d395-c0d281b6671f"
      },
      "outputs": [
        {
          "output_type": "stream",
          "name": "stdout",
          "text": [
            "Sum of all the elements in a given list is :  165\n"
          ]
        }
      ],
      "source": [
        "temp = 0\n",
        "inputList = [11,22,33,44,55]\n",
        "\n",
        "for i in range(0, len(inputList)):\n",
        "  temp = temp + inputList[i]\n",
        "print(\"Sum of all the elements in a given list is : \", temp)"
      ]
    },
    {
      "cell_type": "markdown",
      "source": [
        "2.\tWrite a Python program to  Multiply all numbers in the list?"
      ],
      "metadata": {
        "id": "MACzXE93qYKc"
      }
    },
    {
      "cell_type": "code",
      "source": [
        "inputList = [2,1,3,7,4,85,3]\n",
        "temp = 1\n",
        "\n",
        "for i in inputList:\n",
        "  temp = temp*i\n",
        "print(\"Multiplication of all the elements in a given list is : \", temp)"
      ],
      "metadata": {
        "colab": {
          "base_uri": "https://localhost:8080/"
        },
        "id": "FbSn8eSVqQTp",
        "outputId": "6266b25d-cdca-4c53-94c3-a508e879d87f"
      },
      "execution_count": 3,
      "outputs": [
        {
          "output_type": "stream",
          "name": "stdout",
          "text": [
            "Multiplication of all the elements in a given list is :  42840\n"
          ]
        }
      ]
    },
    {
      "cell_type": "markdown",
      "source": [
        "3.\tWrite a Python program to find smallest number in a list?"
      ],
      "metadata": {
        "id": "4LyK75horUVB"
      }
    },
    {
      "cell_type": "code",
      "source": [
        "inputList = [25,11,7,75,3]\n",
        "small = inputList[0]\n",
        "\n",
        "for i in range(0, len(inputList)):\n",
        "  if inputList[i] < small:\n",
        "    small=inputList[i]\n",
        "print(\"Smallest number in a given list is : \", small)"
      ],
      "metadata": {
        "colab": {
          "base_uri": "https://localhost:8080/"
        },
        "id": "AAFGHnFGrPK6",
        "outputId": "ba54d85e-0e3e-4c3e-8073-7c8251d7930e"
      },
      "execution_count": 5,
      "outputs": [
        {
          "output_type": "stream",
          "name": "stdout",
          "text": [
            "Smallest number in a given list is :  3\n"
          ]
        }
      ]
    },
    {
      "cell_type": "markdown",
      "source": [
        "4.\tWrite a Python program to find largest number in a list?"
      ],
      "metadata": {
        "id": "eYvDPS1bsmjS"
      }
    },
    {
      "cell_type": "code",
      "source": [
        "inputList = [25,11,7,75,3]\n",
        "large = inputList[0]\n",
        "\n",
        "for i in range(0, len(inputList)):\n",
        "  if inputList[i] > large:\n",
        "    large=inputList[i]\n",
        "print(\"Largest number in a given list is : \", large)"
      ],
      "metadata": {
        "colab": {
          "base_uri": "https://localhost:8080/"
        },
        "id": "ivJif-FHsS8a",
        "outputId": "2587d9a0-ef70-4d79-97d5-3b5025c5cdc8"
      },
      "execution_count": 6,
      "outputs": [
        {
          "output_type": "stream",
          "name": "stdout",
          "text": [
            "Largest number in a given list is :  75\n"
          ]
        }
      ]
    },
    {
      "cell_type": "markdown",
      "source": [
        "5.\tWrite a Python program to find second largest number in a list?"
      ],
      "metadata": {
        "id": "chyGf-Chs3D-"
      }
    },
    {
      "cell_type": "code",
      "source": [
        "inputList = [25,11,7,75,3]\n",
        "inputList.sort()\n",
        "print(\"The second largest number in a given list is : \", inputList[-2])"
      ],
      "metadata": {
        "colab": {
          "base_uri": "https://localhost:8080/"
        },
        "id": "8aYH3k4JsyVi",
        "outputId": "9d2145c9-48b8-4d83-c014-399c1ba42972"
      },
      "execution_count": 7,
      "outputs": [
        {
          "output_type": "stream",
          "name": "stdout",
          "text": [
            "The second largest number in a given list is :  25\n"
          ]
        }
      ]
    },
    {
      "cell_type": "markdown",
      "source": [
        "6.\tWrite a Python program to find N largest elements from a list?"
      ],
      "metadata": {
        "id": "CJfpi7V7ttWt"
      }
    },
    {
      "cell_type": "code",
      "source": [
        "inputList = [120, 50, 89, 170, 45, 250, 450, 340]\n",
        "print(\"The given list is : \",inputList)\n",
        "\n",
        "nth_element = int(input(\"Enter the number of largest elements to view in a given list : \"))\n",
        "inputList.sort()\n",
        "\n",
        "print(\"Largest elements from the given list is : \", inputList[-nth_element:])"
      ],
      "metadata": {
        "colab": {
          "base_uri": "https://localhost:8080/"
        },
        "id": "M-cNQG0Yti-I",
        "outputId": "9cc44e1e-edda-462d-f34b-5067b6ca0069"
      },
      "execution_count": 8,
      "outputs": [
        {
          "output_type": "stream",
          "name": "stdout",
          "text": [
            "The given list is :  [120, 50, 89, 170, 45, 250, 450, 340]\n",
            "Enter the number of largest elements to view in a given list : 4\n",
            "Largest elements from the given list is :  [170, 250, 340, 450]\n"
          ]
        }
      ]
    },
    {
      "cell_type": "markdown",
      "source": [
        "7.\tWrite a Python program to print even numbers in a list?"
      ],
      "metadata": {
        "id": "ypOty9h9vGZz"
      }
    },
    {
      "cell_type": "code",
      "source": [
        "inputList = [5, 20, 21, 58, 3]\n",
        "\n",
        "print(\"Even numbers in a given list are : \")\n",
        "for i in inputList:\n",
        "  if i%2 == 0:\n",
        "    print(i, end=\" \")"
      ],
      "metadata": {
        "colab": {
          "base_uri": "https://localhost:8080/"
        },
        "id": "-M5D3brfvAfr",
        "outputId": "7a660ae3-9ff1-49c3-f100-b7635a2a6866"
      },
      "execution_count": 12,
      "outputs": [
        {
          "output_type": "stream",
          "name": "stdout",
          "text": [
            "Even numbers in a given list are : \n",
            "20 58 "
          ]
        }
      ]
    },
    {
      "cell_type": "markdown",
      "source": [
        "8.\tWrite a Python program to print odd numbers in a List?"
      ],
      "metadata": {
        "id": "al4UhT6IwI0R"
      }
    },
    {
      "cell_type": "code",
      "source": [
        "inputList = [5, 20, 21, 58, 3]\n",
        "\n",
        "print(\"Odd numbers in a given list are : \")\n",
        "for i in inputList:\n",
        "  if i%2 != 0:\n",
        "    print(i, end=\" \")"
      ],
      "metadata": {
        "colab": {
          "base_uri": "https://localhost:8080/"
        },
        "id": "zQ2VpXv1vq_Y",
        "outputId": "5796e4b0-4eb2-4a3c-9128-e8b924aded3f"
      },
      "execution_count": 13,
      "outputs": [
        {
          "output_type": "stream",
          "name": "stdout",
          "text": [
            "Odd numbers in a given list are : \n",
            "5 21 3 "
          ]
        }
      ]
    },
    {
      "cell_type": "markdown",
      "source": [
        "9.\tWrite a Python program to Remove empty List from List?"
      ],
      "metadata": {
        "id": "e1pXd6lcwPNT"
      }
    },
    {
      "cell_type": "code",
      "source": [
        "inputList = [[], 2, [], 'Red', 'Green', [1,2], 'Blue', [], [],2.34]\n",
        "\n",
        "print(\"The given list is : \", inputList)\n",
        "\n",
        "listAfterRemoval = [x for x in inputList if x]\n",
        "print(\"List after removing the empty list : \",listAfterRemoval)"
      ],
      "metadata": {
        "colab": {
          "base_uri": "https://localhost:8080/"
        },
        "id": "BQertzihwMVs",
        "outputId": "1bb98d21-e75e-4963-fa31-1f6e97643534"
      },
      "execution_count": 14,
      "outputs": [
        {
          "output_type": "stream",
          "name": "stdout",
          "text": [
            "The given list is :  [[], 2, [], 'Red', 'Green', [1, 2], 'Blue', [], [], 2.34]\n",
            "List after removing the empty list :  [2, 'Red', 'Green', [1, 2], 'Blue', 2.34]\n"
          ]
        }
      ]
    },
    {
      "cell_type": "markdown",
      "source": [
        "10.\tWrite a Python program to Cloning or Copying a list?"
      ],
      "metadata": {
        "id": "t9f2_dRCxf9R"
      }
    },
    {
      "cell_type": "code",
      "source": [
        "inputList = [5, 20, 21, 58, 3]\n",
        "copiedList = list(inputList)\n",
        "print(\"Input List : \",inputList)\n",
        "print(\"Copied List : \",copiedList)"
      ],
      "metadata": {
        "colab": {
          "base_uri": "https://localhost:8080/"
        },
        "id": "T2mzxUTKxaXm",
        "outputId": "6f22318b-8beb-41f8-acf8-b988fd637a1c"
      },
      "execution_count": 15,
      "outputs": [
        {
          "output_type": "stream",
          "name": "stdout",
          "text": [
            "Input List :  [5, 20, 21, 58, 3]\n",
            "Copied List :  [5, 20, 21, 58, 3]\n"
          ]
        }
      ]
    },
    {
      "cell_type": "markdown",
      "source": [
        "11.\tWrite a Python program to Count occurrences of an element in a list?"
      ],
      "metadata": {
        "id": "gFshUsxMyrQZ"
      }
    },
    {
      "cell_type": "code",
      "source": [
        "inputList = ['Green','Blue','blue','Red','Blue','green','red']\n",
        "print(\"The given list is : \", inputList)\n",
        "element = input(\"Enter an element to check the occurence in a list : \")\n",
        "count = inputList.count(element)\n",
        "print(f\"Number of times {element} is present in a given list is : \", count)"
      ],
      "metadata": {
        "colab": {
          "base_uri": "https://localhost:8080/"
        },
        "id": "tSd8ks9wyi7V",
        "outputId": "7bbff0a2-e4d2-45d1-cff7-99445f4966d2"
      },
      "execution_count": 16,
      "outputs": [
        {
          "output_type": "stream",
          "name": "stdout",
          "text": [
            "The given list is :  ['Green', 'Blue', 'blue', 'Red', 'Blue', 'green', 'red']\n",
            "Enter an element to check the occurence in a list : Blue\n",
            "Number of times Blue is present in a given list is :  2\n"
          ]
        }
      ]
    }
  ]
}