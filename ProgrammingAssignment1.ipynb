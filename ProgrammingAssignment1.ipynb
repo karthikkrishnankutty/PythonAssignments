{
  "nbformat": 4,
  "nbformat_minor": 0,
  "metadata": {
    "colab": {
      "provenance": []
    },
    "kernelspec": {
      "name": "python3",
      "display_name": "Python 3"
    },
    "language_info": {
      "name": "python"
    }
  },
  "cells": [
    {
      "cell_type": "markdown",
      "source": [
        "1.\tWrite a Python program to print \"Hello Python\"?"
      ],
      "metadata": {
        "id": "usx7ik7r9l48"
      }
    },
    {
      "cell_type": "code",
      "source": [
        "print(\"Hello Python\")"
      ],
      "metadata": {
        "colab": {
          "base_uri": "https://localhost:8080/"
        },
        "id": "wb-i6Tkm9o57",
        "outputId": "51b0f8fa-dfe9-4eaf-f943-0d33cac7223c"
      },
      "execution_count": 1,
      "outputs": [
        {
          "output_type": "stream",
          "name": "stdout",
          "text": [
            "Hello Python\n"
          ]
        }
      ]
    },
    {
      "cell_type": "markdown",
      "source": [
        "2.\tWrite a Python program to do arithmetical operations addition and division.?"
      ],
      "metadata": {
        "id": "q5vSDqlO93iW"
      }
    },
    {
      "cell_type": "code",
      "source": [
        "input1 = int(input(\"Enter the first value  :\"))\n",
        "input2 = int(input(\"Enter the second value :\"))\n",
        "\n",
        "print(f\"Addition of the two numbers is : {input1+input2}\")\n",
        "print(f\"Division of the two numbers is : {input1/input2}\")"
      ],
      "metadata": {
        "colab": {
          "base_uri": "https://localhost:8080/"
        },
        "id": "jhRBUPot9wZP",
        "outputId": "aa29e46f-2a59-45f3-9c55-b3f697301d29"
      },
      "execution_count": 3,
      "outputs": [
        {
          "output_type": "stream",
          "name": "stdout",
          "text": [
            "Enter the first value  :12\n",
            "Enter the second value :4\n",
            "Addition of the two numbers is : 16\n",
            "Division of the two numbers is : 3.0\n"
          ]
        }
      ]
    },
    {
      "cell_type": "markdown",
      "source": [
        "3.\tWrite a Python program to find the area of a triangle?"
      ],
      "metadata": {
        "id": "vjjSo2PH-ftD"
      }
    },
    {
      "cell_type": "code",
      "source": [
        "base = float(input(\"Enter the base of a triangle :\"))\n",
        "height = float(input(\"Enter the height of a triangle :\"))\n",
        "\n",
        "area = (base * height)/2\n",
        "print(f\"The area of the triangle is : {area}\")"
      ],
      "metadata": {
        "colab": {
          "base_uri": "https://localhost:8080/"
        },
        "id": "_M337TxT-TM2",
        "outputId": "9e74b42e-835c-4e85-c7d1-4eaef3ea0bd4"
      },
      "execution_count": 4,
      "outputs": [
        {
          "output_type": "stream",
          "name": "stdout",
          "text": [
            "Enter the base of a triangle :7\n",
            "Enter the height of a triangle :4\n",
            "The area of the triangle is : 14.0\n"
          ]
        }
      ]
    },
    {
      "cell_type": "markdown",
      "source": [
        "4.\tWrite a Python program to swap two variables?"
      ],
      "metadata": {
        "id": "QN1YW7kTAVMV"
      }
    },
    {
      "cell_type": "code",
      "source": [
        "firstValue = input(\"Enter the first value : \")\n",
        "secondValue = input(\"Enter the second value : \")\n",
        "\n",
        "firstValue, secondValue = secondValue, firstValue\n",
        "\n",
        "print(f\"First Value after swapping : {firstValue}\")\n",
        "print(f\"Second Value after swapping : {secondValue}\")"
      ],
      "metadata": {
        "colab": {
          "base_uri": "https://localhost:8080/"
        },
        "id": "p0n5TgiQAFFs",
        "outputId": "8bebc691-3675-4d34-dd81-734ae2402484"
      },
      "execution_count": 5,
      "outputs": [
        {
          "output_type": "stream",
          "name": "stdout",
          "text": [
            "Enter the first value : 10\n",
            "Enter the second value : 20\n",
            "First Value after swapping : 20\n",
            "Second Value after swapping : 10\n"
          ]
        }
      ]
    },
    {
      "cell_type": "markdown",
      "source": [
        "5.\tWrite a Python program to generate a random number?"
      ],
      "metadata": {
        "id": "EOeNLFi5C_vM"
      }
    },
    {
      "cell_type": "code",
      "source": [
        "import random\n",
        "print(random.randint(0,1000))"
      ],
      "metadata": {
        "colab": {
          "base_uri": "https://localhost:8080/"
        },
        "id": "2YeHrDwaC3-0",
        "outputId": "c706f045-e7c8-4166-a7fc-5df8f80f3817"
      },
      "execution_count": 8,
      "outputs": [
        {
          "output_type": "stream",
          "name": "stdout",
          "text": [
            "490\n"
          ]
        }
      ]
    },
    {
      "cell_type": "code",
      "source": [],
      "metadata": {
        "id": "RLKqtVSsDUUV"
      },
      "execution_count": null,
      "outputs": []
    }
  ]
}