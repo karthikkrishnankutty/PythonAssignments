{
  "nbformat": 4,
  "nbformat_minor": 0,
  "metadata": {
    "colab": {
      "provenance": []
    },
    "kernelspec": {
      "name": "python3",
      "display_name": "Python 3"
    },
    "language_info": {
      "name": "python"
    }
  },
  "cells": [
    {
      "cell_type": "markdown",
      "source": [
        "1.\tWrite a Python Program to find sum of array?"
      ],
      "metadata": {
        "id": "hkYRVurUH1xy"
      }
    },
    {
      "cell_type": "code",
      "execution_count": null,
      "metadata": {
        "colab": {
          "base_uri": "https://localhost:8080/"
        },
        "id": "MARUavHrHxEk",
        "outputId": "6fa142d3-4382-42ba-a441-06e61c15e66d"
      },
      "outputs": [
        {
          "output_type": "stream",
          "name": "stdout",
          "text": [
            "Sum of all the elements in an array :  20\n"
          ]
        }
      ],
      "source": [
        "ar = [2,3,4,5,6]\n",
        "sum = 0\n",
        "\n",
        "for i in range(0, len(ar)):\n",
        "  sum = sum + ar[i]\n",
        "\n",
        "print(\"Sum of all the elements in an array : \", sum)"
      ]
    },
    {
      "cell_type": "markdown",
      "source": [
        "2.\tWrite a Python Program to find largest element in an array?"
      ],
      "metadata": {
        "id": "cIaw8fMnJwOb"
      }
    },
    {
      "cell_type": "code",
      "source": [
        "def largeElement(ar,n):\n",
        "  max = ar[0]\n",
        "  for i in range(1,n):\n",
        "    if ar[i] > max:\n",
        "      max = ar[i]\n",
        "  return max\n",
        "\n",
        "ar = [23,43,334,2,32,234]\n",
        "n=len(ar)\n",
        "res= largeElement(ar,n)\n",
        "print(\"The largest element in a given array is : \", res)"
      ],
      "metadata": {
        "colab": {
          "base_uri": "https://localhost:8080/"
        },
        "id": "sWHH6d0FJefK",
        "outputId": "2259fdb3-e29c-4bdc-cd1e-ca699eb9c065"
      },
      "execution_count": 6,
      "outputs": [
        {
          "output_type": "stream",
          "name": "stdout",
          "text": [
            "The largest element in a given array is :  334\n"
          ]
        }
      ]
    },
    {
      "cell_type": "markdown",
      "source": [
        "3.\tWrite a Python Program for array rotation?"
      ],
      "metadata": {
        "id": "Jt-tlE2RyhxI"
      }
    },
    {
      "cell_type": "code",
      "source": [
        "ar = [1,2,3,4,5]\n",
        "n=3\n",
        "print(\"Given Array : \")\n",
        "for i in range(0,len(ar)):\n",
        "  print(ar[i])\n",
        "\n",
        "for i in range (0,n):\n",
        "  first = ar[0]\n",
        "\n",
        "  for j in range (0, len(ar)-1):\n",
        "    ar[j]=ar[j+1]\n",
        "  \n",
        "  ar[len(ar)-1] = first\n",
        "print()\n",
        "\n",
        "print(\"Array after rotation of three times : \")\n",
        "for i in range(0, len(ar)):\n",
        "  print(ar[i])"
      ],
      "metadata": {
        "id": "Bst_IbhvKY1G",
        "colab": {
          "base_uri": "https://localhost:8080/"
        },
        "outputId": "4dc7bdae-d98a-4a16-cace-b4a20ced665d"
      },
      "execution_count": 9,
      "outputs": [
        {
          "output_type": "stream",
          "name": "stdout",
          "text": [
            "Given Array : \n",
            "1\n",
            "2\n",
            "3\n",
            "4\n",
            "5\n",
            "\n",
            "Array after rotation of three times : \n",
            "4\n",
            "5\n",
            "1\n",
            "2\n",
            "3\n"
          ]
        }
      ]
    },
    {
      "cell_type": "markdown",
      "source": [
        "4.\tWrite a Python Program to Split the array and add the first part to the end?"
      ],
      "metadata": {
        "id": "DWi7b7915ZQ0"
      }
    },
    {
      "cell_type": "code",
      "source": [
        "def splitArray(arr, m, n):\n",
        "  for i in range(0,n):\n",
        "    firstValue = arr[0]\n",
        "    for j in range(0, m-1):\n",
        "      arr[j] = arr[j+1]\n",
        "    arr[m-1] = firstValue\n",
        "\n",
        "arr = [2,3,4,5,6,7,8,9]\n",
        "p=3\n",
        "\n",
        "print(\"The given array is : \")\n",
        "print(arr)\n",
        "\n",
        "splitArray(arr,len(arr),p)\n",
        "for i in range(0,len(arr)):\n",
        "  print(arr[i])"
      ],
      "metadata": {
        "colab": {
          "base_uri": "https://localhost:8080/"
        },
        "id": "O5HEb1LOziDd",
        "outputId": "5bfeb746-5cbd-4d75-e985-453b59560092"
      },
      "execution_count": 12,
      "outputs": [
        {
          "output_type": "stream",
          "name": "stdout",
          "text": [
            "The given array is : \n",
            "[2, 3, 4, 5, 6, 7, 8, 9]\n",
            "5\n",
            "6\n",
            "7\n",
            "8\n",
            "9\n",
            "2\n",
            "3\n",
            "4\n"
          ]
        }
      ]
    },
    {
      "cell_type": "markdown",
      "source": [
        "5.\tWrite a Python Program to check if given array is Monotonic?"
      ],
      "metadata": {
        "id": "37GZVjvB7Yxx"
      }
    },
    {
      "cell_type": "code",
      "source": [
        "def monotonicArray(a):\n",
        "  return (all(a[i] <= a[i + 1] for i in range(len(a) - 1)) or\n",
        "      all(a[i] >= a[i + 1] for i in range(len(a) - 1)))\n",
        "  \n",
        "a=[3,4,8,9,23,24]\n",
        "print(monotonicArray(a))"
      ],
      "metadata": {
        "colab": {
          "base_uri": "https://localhost:8080/"
        },
        "id": "vjjQIHqI69tp",
        "outputId": "edbeb3e8-9228-44c0-aa4b-b458c862e913"
      },
      "execution_count": 15,
      "outputs": [
        {
          "output_type": "stream",
          "name": "stdout",
          "text": [
            "True\n"
          ]
        }
      ]
    }
  ]
}