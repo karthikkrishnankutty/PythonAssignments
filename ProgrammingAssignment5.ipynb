{
  "nbformat": 4,
  "nbformat_minor": 0,
  "metadata": {
    "colab": {
      "provenance": []
    },
    "kernelspec": {
      "name": "python3",
      "display_name": "Python 3"
    },
    "language_info": {
      "name": "python"
    }
  },
  "cells": [
    {
      "cell_type": "markdown",
      "source": [
        "1.\tWrite a Python Program to Find LCM?"
      ],
      "metadata": {
        "id": "rwkCBqItjuF8"
      }
    },
    {
      "cell_type": "code",
      "source": [
        "def lcmCalculation(a,b):\n",
        "  if a > b:\n",
        "    high = a\n",
        "  else:\n",
        "    high = b\n",
        "  while(True):\n",
        "    if((high % a == 0) and (high % b == 0)):\n",
        "      result = high\n",
        "      break\n",
        "    high = high + 1\n",
        "  return result"
      ],
      "metadata": {
        "id": "6tP-G9yJjwEY"
      },
      "execution_count": 3,
      "outputs": []
    },
    {
      "cell_type": "code",
      "source": [
        "lcmCalculation(7,28)"
      ],
      "metadata": {
        "colab": {
          "base_uri": "https://localhost:8080/"
        },
        "id": "J0tlfL7hlSZn",
        "outputId": "1592187b-89c4-4fad-d75c-82966376605a"
      },
      "execution_count": 6,
      "outputs": [
        {
          "output_type": "execute_result",
          "data": {
            "text/plain": [
              "28"
            ]
          },
          "metadata": {},
          "execution_count": 6
        }
      ]
    },
    {
      "cell_type": "markdown",
      "source": [
        "2.\tWrite a Python Program to Find HCF?"
      ],
      "metadata": {
        "id": "RzMpY0F3lk8g"
      }
    },
    {
      "cell_type": "code",
      "source": [
        "def hcmCalculation(a,b):\n",
        "  if a > b:\n",
        "    low = a\n",
        "  else:\n",
        "    low = b\n",
        "  for i in range (1, low + 1):\n",
        "    if((a % i == 0) and (b % i == 0)):\n",
        "      result = i\n",
        "  return result"
      ],
      "metadata": {
        "id": "kGi0eWEQleON"
      },
      "execution_count": 7,
      "outputs": []
    },
    {
      "cell_type": "code",
      "source": [
        "hcmCalculation(3,27)"
      ],
      "metadata": {
        "colab": {
          "base_uri": "https://localhost:8080/"
        },
        "id": "wA7OZNXzmcAU",
        "outputId": "26ad1447-f9b6-476b-e561-73d3c54b2a1c"
      },
      "execution_count": 10,
      "outputs": [
        {
          "output_type": "execute_result",
          "data": {
            "text/plain": [
              "3"
            ]
          },
          "metadata": {},
          "execution_count": 10
        }
      ]
    },
    {
      "cell_type": "markdown",
      "source": [
        "3.\tWrite a Python Program to Convert Decimal to Binary, Octal and Hexadecimal?"
      ],
      "metadata": {
        "id": "wyRvx8tgmrPV"
      }
    },
    {
      "cell_type": "code",
      "source": [
        "def decimalValueConversion(decInput):\n",
        "  dec = int(decInput)\n",
        "  print(f\"The binary value for the given input {dec} is :\", bin(dec))\n",
        "  print(f\"The octal value for the given input {dec} is :\", oct(dec))\n",
        "  print(f\"The hexadecimal value for the given input {dec} is :\", hex(dec))\n",
        "\n",
        "decInput = int(input(\"Enter a decimal number : \"))\n",
        "decimalValueConversion(decInput)"
      ],
      "metadata": {
        "colab": {
          "base_uri": "https://localhost:8080/"
        },
        "id": "ispUArJUmgS-",
        "outputId": "5a5bc84f-d719-41ca-d01d-fc90cd36765a"
      },
      "execution_count": 13,
      "outputs": [
        {
          "output_type": "stream",
          "name": "stdout",
          "text": [
            "Enter a decimal number : 13\n",
            "The binary value for the given input 13 is : 0b1101\n",
            "The octal value for the given input 13 is : 0o15\n",
            "The hexadecimal value for the given input 13 is : 0xd\n"
          ]
        }
      ]
    },
    {
      "cell_type": "markdown",
      "source": [
        "4.\tWrite a Python Program To Find ASCII value of a character?"
      ],
      "metadata": {
        "id": "4-qHiaf1os6U"
      }
    },
    {
      "cell_type": "code",
      "source": [
        "inputCharacter = input(\"Enter a character : \")\n",
        "print(f\"ASCII value of a given character {inputCharacter} is :\", ord(inputCharacter))"
      ],
      "metadata": {
        "colab": {
          "base_uri": "https://localhost:8080/"
        },
        "id": "kvzhyMbIoOGJ",
        "outputId": "49083cc4-ca4b-495e-d91d-03dfae4476ae"
      },
      "execution_count": 15,
      "outputs": [
        {
          "output_type": "stream",
          "name": "stdout",
          "text": [
            "Enter a character : K\n",
            "ASCII value of a given character K is : 75\n"
          ]
        }
      ]
    },
    {
      "cell_type": "markdown",
      "source": [
        "5.\tWrite a Python Program to Make a Simple Calculator with 4 basic mathematical operations?"
      ],
      "metadata": {
        "id": "bPvayoE-pGJM"
      }
    },
    {
      "cell_type": "code",
      "source": [
        "def addition(a,b):\n",
        "  return a+b\n",
        "def subtraction(a,b):\n",
        "  return a-b\n",
        "def multiplication(a,b):\n",
        "  return a*b\n",
        "def division(a,b):\n",
        "  return a/b\n",
        "\n",
        "print(\"Select an operation which you need to perform \\n\\n a. Add \\n b. Subtraction \\n c. Multiplication \\n d. Division\\n\")\n",
        "\n",
        "choice = input(\"Please enter the choice (a/b/c/d) : \")\n",
        "\n",
        "input1=int(input(\"Enter the first value  :\"))\n",
        "input2=int(input(\"Enter the second value :\"))\n",
        "\n",
        "if choice == 'a':\n",
        "  print(f\"{input1} + {input2} =\", addition(input1,input2))\n",
        "elif choice == 'b':\n",
        "  print(f\"{input1} - {input2} =\", subtraction(input1,input2))\n",
        "elif choice == 'c':\n",
        "  print(f\"{input1} * {input2} =\", multiplication(input1,input2))\n",
        "elif choice == 'd':\n",
        "  print(f\"{input1} / {input2} =\", division(input1,input2))\n",
        "else:\n",
        "  print(\"Invalid input\")"
      ],
      "metadata": {
        "colab": {
          "base_uri": "https://localhost:8080/"
        },
        "id": "Z5B0ZDseo_AY",
        "outputId": "1ea8b56f-00af-4775-f96d-3ccff1865388"
      },
      "execution_count": 18,
      "outputs": [
        {
          "output_type": "stream",
          "name": "stdout",
          "text": [
            "Select an operation which you need to perform \n",
            "\n",
            " a. Add \n",
            " b. Subtraction \n",
            " c. Multiplication \n",
            " d. Division\n",
            "\n",
            "Please enter the choice (a/b/c/d) : c\n",
            "Enter the first value  :45\n",
            "Enter the second value :3\n",
            "45 * 3 = 135\n"
          ]
        }
      ]
    }
  ]
}