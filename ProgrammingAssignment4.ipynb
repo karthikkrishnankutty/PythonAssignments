{
  "nbformat": 4,
  "nbformat_minor": 0,
  "metadata": {
    "colab": {
      "provenance": []
    },
    "kernelspec": {
      "name": "python3",
      "display_name": "Python 3"
    },
    "language_info": {
      "name": "python"
    }
  },
  "cells": [
    {
      "cell_type": "markdown",
      "source": [
        "1.\tWrite a Python Program to Find the Factorial of a Number?"
      ],
      "metadata": {
        "id": "-keC1eOYeNCe"
      }
    },
    {
      "cell_type": "code",
      "execution_count": 1,
      "metadata": {
        "colab": {
          "base_uri": "https://localhost:8080/"
        },
        "id": "1kAW-t7feJGf",
        "outputId": "fb1a5ae4-6fe9-4a7b-f4ec-b30e9de5ec74"
      },
      "outputs": [
        {
          "output_type": "stream",
          "name": "stdout",
          "text": [
            "Enter a value :5\n",
            "The factorial value for 5 is : 120\n"
          ]
        }
      ],
      "source": [
        "value = int(input(\"Enter a value :\"))\n",
        "fact = 1\n",
        "\n",
        "if value < 0:\n",
        "  print(\"Cannot calculate factorial for negative numbers\")\n",
        "elif value == 0:\n",
        "  print(\"Factorial for 0 is 1\")\n",
        "else:\n",
        "  for i in range(1,value+1):\n",
        "    fact = fact * i\n",
        "  print(f\"The factorial value for {value} is : {fact}\")"
      ]
    },
    {
      "cell_type": "markdown",
      "source": [
        "2.\tWrite a Python Program to Display the multiplication Table?"
      ],
      "metadata": {
        "id": "lNejIOxgfgFF"
      }
    },
    {
      "cell_type": "code",
      "source": [
        "value = int(input(\"Enter a value for which multiplication table should be displayed :\"))\n",
        "\n",
        "for i in range(1,11):\n",
        "  print(f\"{value} x {i} = {value * i}\")"
      ],
      "metadata": {
        "colab": {
          "base_uri": "https://localhost:8080/"
        },
        "id": "AUmtf0KofLFE",
        "outputId": "8ed2f006-485f-4ce0-bb88-e0591d15161f"
      },
      "execution_count": 3,
      "outputs": [
        {
          "output_type": "stream",
          "name": "stdout",
          "text": [
            "Enter a value for which multiplication table should be displayed :8\n",
            "8 x 1 = 8\n",
            "8 x 2 = 16\n",
            "8 x 3 = 24\n",
            "8 x 4 = 32\n",
            "8 x 5 = 40\n",
            "8 x 6 = 48\n",
            "8 x 7 = 56\n",
            "8 x 8 = 64\n",
            "8 x 9 = 72\n",
            "8 x 10 = 80\n"
          ]
        }
      ]
    },
    {
      "cell_type": "markdown",
      "source": [
        "3.\tWrite a Python Program to Print the Fibonacci sequence?"
      ],
      "metadata": {
        "id": "tR8gjLh_gILc"
      }
    },
    {
      "cell_type": "code",
      "source": [
        "a = 10\n",
        "f1,f2 = 0,1\n",
        "print(\"Fibonacci Sequence till 10th sequence : \",f1,f2, end =\" \")\n",
        "for i in range(2,a):\n",
        "  f3 = f1 + f2\n",
        "  f1 = f2\n",
        "  f2 = f3\n",
        "  print(f3, end = \" \")\n",
        "print()"
      ],
      "metadata": {
        "colab": {
          "base_uri": "https://localhost:8080/"
        },
        "id": "bsYE02Vzf9HA",
        "outputId": "5850f78c-8bd7-4c2d-f350-5d022a6a03a2"
      },
      "execution_count": 7,
      "outputs": [
        {
          "output_type": "stream",
          "name": "stdout",
          "text": [
            "Fibonacci Sequence till 10th sequence :  0 1 1 2 3 5 8 13 21 34 \n"
          ]
        }
      ]
    },
    {
      "cell_type": "markdown",
      "source": [
        "4.\tWrite a Python Program to Check Armstrong Number?"
      ],
      "metadata": {
        "id": "YDKfXtVpyGMp"
      }
    },
    {
      "cell_type": "code",
      "source": [
        "value = int(input(\"Enter a value :\"))\n",
        "temp = value\n",
        "sum = 0\n",
        "\n",
        "while temp != 0:\n",
        "  i = temp % 10\n",
        "  sum += i*i*i\n",
        "  temp = temp // 10\n",
        "if sum == value:\n",
        "  print(\"The given number is an Armstrong Number\")\n",
        "else:\n",
        "  print(\"The give number is not an Armstrong Number\")"
      ],
      "metadata": {
        "colab": {
          "base_uri": "https://localhost:8080/"
        },
        "id": "lqvo6NXKw8xx",
        "outputId": "e6165f89-ac8a-4a6c-ea6d-a8a430b4684a"
      },
      "execution_count": 12,
      "outputs": [
        {
          "output_type": "stream",
          "name": "stdout",
          "text": [
            "Enter a value :153\n",
            "The given number is an Armstrong Number\n"
          ]
        }
      ]
    },
    {
      "cell_type": "markdown",
      "source": [
        "5.\tWrite a Python Program to Find Armstrong Number in an Interval?"
      ],
      "metadata": {
        "id": "SIak6WwS0IId"
      }
    },
    {
      "cell_type": "code",
      "source": [
        "upperLimit = int(input(\"Enter an upper range :\"))\n",
        "lowerLimit = int(input(\"Enter a lower range :\"))\n",
        "\n",
        "for i in range(lowerLimit, upperLimit + 1):\n",
        "  sum = 0\n",
        "  temp = i\n",
        "  while temp > 0:\n",
        "    k = temp % 10\n",
        "    sum += k ** 3\n",
        "    temp //= 10\n",
        "    if i==sum:\n",
        "      print(i)"
      ],
      "metadata": {
        "colab": {
          "base_uri": "https://localhost:8080/"
        },
        "id": "dQqcX4I4yus8",
        "outputId": "e5fd1cd5-1e39-4589-af4c-eecc3da44c5c"
      },
      "execution_count": 14,
      "outputs": [
        {
          "output_type": "stream",
          "name": "stdout",
          "text": [
            "Enter an upper range :500\n",
            "Enter a lower range :100\n",
            "125\n",
            "153\n",
            "216\n",
            "370\n",
            "371\n",
            "407\n"
          ]
        }
      ]
    },
    {
      "cell_type": "markdown",
      "source": [
        "6.\tWrite a Python Program to Find the Sum of Natural Numbers?"
      ],
      "metadata": {
        "id": "S3nxFIZB1SeN"
      }
    },
    {
      "cell_type": "code",
      "source": [
        "value = int(input(\"Enter a value :\"))\n",
        "\n",
        "if value < 0:\n",
        "  print(\"The given value is not a positive number\")\n",
        "else:\n",
        "  sum = 0\n",
        "  while value > 0:\n",
        "    sum += value\n",
        "    value -= 1\n",
        "  print(f\"Sum of Natural Numbers is : {sum}\")"
      ],
      "metadata": {
        "colab": {
          "base_uri": "https://localhost:8080/"
        },
        "id": "vP9KPJxs1ECl",
        "outputId": "05d15729-6bc6-400e-8474-875aff244ade"
      },
      "execution_count": 15,
      "outputs": [
        {
          "output_type": "stream",
          "name": "stdout",
          "text": [
            "Enter a value :10\n",
            "Sum of Natural Numbers is : 55\n"
          ]
        }
      ]
    },
    {
      "cell_type": "code",
      "source": [],
      "metadata": {
        "id": "Tkm-sUwF25Rc"
      },
      "execution_count": null,
      "outputs": []
    }
  ]
}