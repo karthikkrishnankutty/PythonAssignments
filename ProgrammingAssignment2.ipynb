{
  "nbformat": 4,
  "nbformat_minor": 0,
  "metadata": {
    "colab": {
      "provenance": []
    },
    "kernelspec": {
      "name": "python3",
      "display_name": "Python 3"
    },
    "language_info": {
      "name": "python"
    }
  },
  "cells": [
    {
      "cell_type": "markdown",
      "source": [
        "1. Write a Python program to convert kilometers to miles?"
      ],
      "metadata": {
        "id": "y__WXmuAJxMB"
      }
    },
    {
      "cell_type": "code",
      "execution_count": 1,
      "metadata": {
        "colab": {
          "base_uri": "https://localhost:8080/"
        },
        "id": "Q2eRgSJpJt1l",
        "outputId": "d9e49887-9bfa-4693-c547-4527ad186448"
      },
      "outputs": [
        {
          "output_type": "stream",
          "name": "stdout",
          "text": [
            "Enter the value in kilometer : 20\n",
            "Mile for the given kilometer is : 12.42742\n"
          ]
        }
      ],
      "source": [
        "kilometer = float(input(\"Enter the value in kilometer : \"))\n",
        "conversionFactor = 0.621371\n",
        "\n",
        "miles = kilometer * conversionFactor\n",
        "\n",
        "print(f\"Mile for the given kilometer is : {miles}\")"
      ]
    },
    {
      "cell_type": "markdown",
      "source": [
        "2.\tWrite a Python program to convert Celsius to Fahrenheit?"
      ],
      "metadata": {
        "id": "o2Pv_i_FKtEc"
      }
    },
    {
      "cell_type": "code",
      "source": [
        "celsiusValue = float(input(\"Enter the value in degree celsius :\"))\n",
        "\n",
        "farenheitValue = (celsiusValue*1.8) + 32\n",
        "\n",
        "print(f\"The {celsiusValue} degree celsius is equal to {farenheitValue} Farenheit\")"
      ],
      "metadata": {
        "colab": {
          "base_uri": "https://localhost:8080/"
        },
        "id": "92rFibduKefb",
        "outputId": "adde13f6-1d0c-404c-e682-d467c3b50f71"
      },
      "execution_count": 2,
      "outputs": [
        {
          "output_type": "stream",
          "name": "stdout",
          "text": [
            "Enter the value in degree celsius :54\n",
            "The 54.0 degree celsius is equal to 129.2 Farenheit\n"
          ]
        }
      ]
    },
    {
      "cell_type": "markdown",
      "source": [
        "3.\tWrite a Python program to display calendar?"
      ],
      "metadata": {
        "id": "v_f6-PkZLpYE"
      }
    },
    {
      "cell_type": "code",
      "source": [
        "import calendar\n",
        "\n",
        "year = int(input(\"Enter the year :\"))\n",
        "month = int(input(\"Enter the month :\"))\n",
        "\n",
        "print(calendar.month(year,month))"
      ],
      "metadata": {
        "colab": {
          "base_uri": "https://localhost:8080/"
        },
        "id": "HtmQMpt-LeCX",
        "outputId": "e65fccbd-e627-4ff4-ce18-25eca8c63f5e"
      },
      "execution_count": 3,
      "outputs": [
        {
          "output_type": "stream",
          "name": "stdout",
          "text": [
            "Enter the year :1992\n",
            "Enter the month :3\n",
            "     March 1992\n",
            "Mo Tu We Th Fr Sa Su\n",
            "                   1\n",
            " 2  3  4  5  6  7  8\n",
            " 9 10 11 12 13 14 15\n",
            "16 17 18 19 20 21 22\n",
            "23 24 25 26 27 28 29\n",
            "30 31\n",
            "\n"
          ]
        }
      ]
    },
    {
      "cell_type": "markdown",
      "source": [
        "4.\tWrite a Python program to solve quadratic equation?"
      ],
      "metadata": {
        "id": "Feo_Ud53MUSe"
      }
    },
    {
      "cell_type": "code",
      "source": [
        "import cmath\n",
        "\n",
        "a = 1\n",
        "b = 2\n",
        "c = 3\n",
        "\n",
        "discriminant = (b**2) - (4*a*c)\n",
        "\n",
        "result1 = (-b - cmath.sqrt(discriminant)) / (2 * a)\n",
        "result2 = (-b + cmath.sqrt(discriminant)) / (2 * a)\n",
        "\n",
        "print(f\"The root values are : {result1} {result2}\")"
      ],
      "metadata": {
        "colab": {
          "base_uri": "https://localhost:8080/"
        },
        "id": "mIGu7791ML0c",
        "outputId": "875856dc-ac0f-45a7-984c-ad4257528787"
      },
      "execution_count": 4,
      "outputs": [
        {
          "output_type": "stream",
          "name": "stdout",
          "text": [
            "The root values are : (-1-1.4142135623730951j) (-1+1.4142135623730951j)\n"
          ]
        }
      ]
    },
    {
      "cell_type": "markdown",
      "source": [
        "5.\tWrite a Python program to swap two variables without temp variable?"
      ],
      "metadata": {
        "id": "k184_0ACN_QE"
      }
    },
    {
      "cell_type": "code",
      "source": [
        "firstValue = int(input(\"Enter the first value : \"))\n",
        "secondValue = int(input(\"Enter the second value : \"))\n",
        "\n",
        "firstValue, secondValue = secondValue, firstValue\n",
        "\n",
        "print(f\"First Value after swapping : {firstValue}\")\n",
        "print(f\"Second Value after swapping : {secondValue}\")"
      ],
      "metadata": {
        "colab": {
          "base_uri": "https://localhost:8080/"
        },
        "id": "5OgmVEMVNth4",
        "outputId": "0cc707b6-241a-486a-f109-10e41682d2c9"
      },
      "execution_count": 5,
      "outputs": [
        {
          "output_type": "stream",
          "name": "stdout",
          "text": [
            "Enter the first value : 10\n",
            "Enter the second value : 20\n",
            "First Value after swapping : 20\n",
            "Second Value after swapping : 10\n"
          ]
        }
      ]
    }
  ]
}