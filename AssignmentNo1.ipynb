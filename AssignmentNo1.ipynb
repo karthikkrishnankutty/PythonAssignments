{
  "nbformat": 4,
  "nbformat_minor": 0,
  "metadata": {
    "colab": {
      "provenance": []
    },
    "kernelspec": {
      "name": "python3",
      "display_name": "Python 3"
    },
    "language_info": {
      "name": "python"
    }
  },
  "cells": [
    {
      "cell_type": "code",
      "execution_count": null,
      "metadata": {
        "id": "w4Blm4H6b-be"
      },
      "outputs": [],
      "source": []
    },
    {
      "cell_type": "markdown",
      "source": [
        "1. In the below elements which of them are values or an expression? eg:- values can be\n",
        "integer or string and expressions will be mathematical operators.\n",
        "*\n",
        "\n",
        "'hello'\n",
        "\n",
        "-87.8\n",
        "\n",
        "-\n",
        "\n",
        "/\n",
        "\n",
        "+\n",
        "\n",
        "6"
      ],
      "metadata": {
        "id": "X66CrZuncGE9"
      }
    },
    {
      "cell_type": "markdown",
      "source": [
        "1.  It is an arithmetic operator used for multiplication (*). - Expression\n",
        "2.   It is a string value ('hello'). - Value\n",
        "3. It is an arithmetic operator used for subration (-). - Expression\n",
        "4. It is an arithmetic operator used for division (/). - Expression\n",
        "5. It is an arithmetic operator used for addition (+). - Expression\n",
        "6. It is an integer value. - Value\n",
        "\n"
      ],
      "metadata": {
        "id": "nJw2_hKkcT6D"
      }
    },
    {
      "cell_type": "markdown",
      "source": [
        "2. What is the difference between string and variable?"
      ],
      "metadata": {
        "id": "bdInhYhGdvv8"
      }
    },
    {
      "cell_type": "markdown",
      "source": [
        "String is one of the data types supported by python to share the list of characters within double quotes or single quotes.\n",
        "\n",
        "Example: str1 = \"Karthik\"\n",
        "\n",
        "str2 = \"Krishnankutti\"\n",
        "\n",
        "Variables in Python are used to store the values in it.\n",
        "\n",
        "Example: value1 = 20\n",
        "\n",
        "Here value1 is a variable used to store the integer value of 20."
      ],
      "metadata": {
        "id": "1R4r3gv3d1LC"
      }
    },
    {
      "cell_type": "markdown",
      "source": [
        "3. Describe three different data types."
      ],
      "metadata": {
        "id": "B5Io1kW-eZTL"
      }
    },
    {
      "cell_type": "markdown",
      "source": [
        "\n",
        "\n",
        "1.   int - This data type is used to store all the non decimal values.\n",
        "2.   float - This data type is used to store the numbers which are containing decimal values.\n",
        "3. boolean - This data type is storing the value either it is true or false.\n",
        "\n"
      ],
      "metadata": {
        "id": "VhiVPy_0edhi"
      }
    },
    {
      "cell_type": "markdown",
      "source": [
        "4. What is an expression made up of? What do all expressions do?"
      ],
      "metadata": {
        "id": "Xdgmq5Vm5VTP"
      }
    },
    {
      "cell_type": "markdown",
      "source": [
        "An expression in python is made up of operators, operands, parantheses, functions and statements.\n",
        "\n",
        "These expressions are interpreted to produce the desired output.\n",
        "\n",
        "Expression is evaluated as per the precedence of the operators.\n",
        "\n",
        "If there are more than one operators, their precedence decides which operation will be performed first (BODMOS rule).\n"
      ],
      "metadata": {
        "id": "VzHcdMfc5Zdg"
      }
    },
    {
      "cell_type": "markdown",
      "source": [
        "5. This assignment statements, like spam = 10. What is the difference between an expression and a statement?"
      ],
      "metadata": {
        "id": "_OjchyO86uN4"
      }
    },
    {
      "cell_type": "markdown",
      "source": [
        "Expression:\n",
        "\n",
        "Expression in Python are defined as collection of operators and operands and are expected to produce some desired output atleast one value.\n",
        "\n",
        "    Example : a+2\n",
        "\n",
        "Statement:\n",
        "\n",
        "Statements are expected to perform operations. \n",
        "\n",
        "  Example : y = x+1"
      ],
      "metadata": {
        "id": "vtK5vnYN6x0v"
      }
    },
    {
      "cell_type": "markdown",
      "source": [
        "6. After running the following code, what does the variable bacon contain?\n",
        "\n",
        "bacon = 22\n",
        "\n",
        "bacon + 1"
      ],
      "metadata": {
        "id": "mrVlt4Xu832R"
      }
    },
    {
      "cell_type": "code",
      "source": [
        "bacon = 22\n",
        "bacon + 1\n",
        "print(bacon)"
      ],
      "metadata": {
        "colab": {
          "base_uri": "https://localhost:8080/"
        },
        "id": "_7_Z0fqT8-Af",
        "outputId": "0683443f-001a-45ea-b75b-8e778d5b7bcc"
      },
      "execution_count": 1,
      "outputs": [
        {
          "output_type": "stream",
          "name": "stdout",
          "text": [
            "22\n"
          ]
        }
      ]
    },
    {
      "cell_type": "markdown",
      "source": [
        "The variable bacon still contains the value of 22. We are incrementing the value of bacon by 1 in the next statement but we are not assigning the result to the variable. Hence the value would be 22."
      ],
      "metadata": {
        "id": "i_j1OX8g9TTp"
      }
    },
    {
      "cell_type": "markdown",
      "source": [
        "7. What should the values of the following two terms be?\n",
        "\n",
        "'spam' + 'spamspam'\n",
        "\n",
        "'spam' * 3\n"
      ],
      "metadata": {
        "id": "ffS-MO9t9i8p"
      }
    },
    {
      "cell_type": "code",
      "source": [
        "value1 = 'spam'\n",
        "value2 = 'spamspam'\n",
        "print(f\"{value1 + value2}\")\n",
        "print(f\"{value1 * 3}\")"
      ],
      "metadata": {
        "colab": {
          "base_uri": "https://localhost:8080/"
        },
        "id": "w7CzxMgt9w9j",
        "outputId": "b4059488-e462-492a-859d-d63569fbddbb"
      },
      "execution_count": 2,
      "outputs": [
        {
          "output_type": "stream",
          "name": "stdout",
          "text": [
            "spamspamspam\n",
            "spamspamspam\n"
          ]
        }
      ]
    },
    {
      "cell_type": "markdown",
      "source": [
        "The result is \n",
        "\n",
        "    spamspamspam\n",
        "    spamspamspam"
      ],
      "metadata": {
        "id": "oj0FTv7z-RZe"
      }
    },
    {
      "cell_type": "markdown",
      "source": [
        "8. Why is eggs a valid variable name while 100 is invalid?\n",
        "\n",
        "As per the standard rules of python, a variable name cannot start with the number. In this case, when we are assigning any value to the variable '100', it is actually trying to change the value of the number and that is not acceptable. We will be getting a syntax error if we use '100' as a variable name."
      ],
      "metadata": {
        "id": "c3eXaiRC-mT7"
      }
    },
    {
      "cell_type": "code",
      "source": [
        "eggs = 1\n",
        "100 = 1"
      ],
      "metadata": {
        "colab": {
          "base_uri": "https://localhost:8080/",
          "height": 130
        },
        "id": "kVQaidfr_M1T",
        "outputId": "f0a9d4c7-358b-41d4-f979-0004754c0cbe"
      },
      "execution_count": 3,
      "outputs": [
        {
          "output_type": "error",
          "ename": "SyntaxError",
          "evalue": "ignored",
          "traceback": [
            "\u001b[0;36m  File \u001b[0;32m\"<ipython-input-3-a026a4e2240d>\"\u001b[0;36m, line \u001b[0;32m2\u001b[0m\n\u001b[0;31m    100 = 1\u001b[0m\n\u001b[0m           ^\u001b[0m\n\u001b[0;31mSyntaxError\u001b[0m\u001b[0;31m:\u001b[0m can't assign to literal\n"
          ]
        }
      ]
    },
    {
      "cell_type": "markdown",
      "source": [
        "9. What three functions can be used to get the integer, floating-point number, or string version of a value?"
      ],
      "metadata": {
        "id": "YxpicgIC_2wH"
      }
    },
    {
      "cell_type": "code",
      "source": [
        "value1 = \"20\" \n",
        "print(type(value1), value1)\n",
        "\n",
        "value2 = int(value1)\n",
        "print(type(value2), value2)"
      ],
      "metadata": {
        "colab": {
          "base_uri": "https://localhost:8080/"
        },
        "id": "C_pRm3jm_4m_",
        "outputId": "dc230170-f333-41b8-bb28-444e53cb73e0"
      },
      "execution_count": 6,
      "outputs": [
        {
          "output_type": "stream",
          "name": "stdout",
          "text": [
            "<class 'str'> 20\n",
            "<class 'int'> 20\n"
          ]
        }
      ]
    },
    {
      "cell_type": "code",
      "source": [
        "value3 = 30\n",
        "print(type(value3), value3)\n",
        "\n",
        "value4 = float(value3)\n",
        "print(type(value4), value4)"
      ],
      "metadata": {
        "colab": {
          "base_uri": "https://localhost:8080/"
        },
        "id": "y99Ml1ttK2nt",
        "outputId": "87b144b2-18e4-473e-ffc5-27041c0eba80"
      },
      "execution_count": 7,
      "outputs": [
        {
          "output_type": "stream",
          "name": "stdout",
          "text": [
            "<class 'int'> 30\n",
            "<class 'float'> 30.0\n"
          ]
        }
      ]
    },
    {
      "cell_type": "code",
      "source": [
        "value5 = 25\n",
        "print(type(value5), value5)\n",
        "\n",
        "value6 = str(value5)\n",
        "print(type(value6), value6)"
      ],
      "metadata": {
        "colab": {
          "base_uri": "https://localhost:8080/"
        },
        "id": "p68LP4jtLM3_",
        "outputId": "03599f4d-6363-49b0-91a4-876996028ed7"
      },
      "execution_count": 8,
      "outputs": [
        {
          "output_type": "stream",
          "name": "stdout",
          "text": [
            "<class 'int'> 25\n",
            "<class 'str'> 25\n"
          ]
        }
      ]
    },
    {
      "cell_type": "markdown",
      "source": [
        "10. Why does this expression cause an error? How can you fix it?\n",
        "\n",
        "'I have eaten ' + 99 + ' burritos.'"
      ],
      "metadata": {
        "id": "BE1cxXWnLkO5"
      }
    },
    {
      "cell_type": "code",
      "source": [
        "value1 = 'I have eaten'\n",
        "value2 = 'burritos'\n",
        "\n",
        "value3 = value1 + 99 + value2\n",
        "print(value3)"
      ],
      "metadata": {
        "colab": {
          "base_uri": "https://localhost:8080/",
          "height": 217
        },
        "id": "Jhp96p3nLuAL",
        "outputId": "70f2914a-41e8-4fd3-9cc0-ad8277f12c95"
      },
      "execution_count": 9,
      "outputs": [
        {
          "output_type": "error",
          "ename": "TypeError",
          "evalue": "ignored",
          "traceback": [
            "\u001b[0;31m---------------------------------------------------------------------------\u001b[0m",
            "\u001b[0;31mTypeError\u001b[0m                                 Traceback (most recent call last)",
            "\u001b[0;32m<ipython-input-9-a9004851b17a>\u001b[0m in \u001b[0;36m<module>\u001b[0;34m\u001b[0m\n\u001b[1;32m      2\u001b[0m \u001b[0mvalue2\u001b[0m \u001b[0;34m=\u001b[0m \u001b[0;34m'burritos'\u001b[0m\u001b[0;34m\u001b[0m\u001b[0;34m\u001b[0m\u001b[0m\n\u001b[1;32m      3\u001b[0m \u001b[0;34m\u001b[0m\u001b[0m\n\u001b[0;32m----> 4\u001b[0;31m \u001b[0mvalue3\u001b[0m \u001b[0;34m=\u001b[0m \u001b[0mvalue1\u001b[0m \u001b[0;34m+\u001b[0m \u001b[0;36m99\u001b[0m \u001b[0;34m+\u001b[0m \u001b[0mvalue2\u001b[0m\u001b[0;34m\u001b[0m\u001b[0;34m\u001b[0m\u001b[0m\n\u001b[0m\u001b[1;32m      5\u001b[0m \u001b[0mprint\u001b[0m\u001b[0;34m(\u001b[0m\u001b[0mvalue3\u001b[0m\u001b[0;34m)\u001b[0m\u001b[0;34m\u001b[0m\u001b[0;34m\u001b[0m\u001b[0m\n",
            "\u001b[0;31mTypeError\u001b[0m: can only concatenate str (not \"int\") to str"
          ]
        }
      ]
    },
    {
      "cell_type": "markdown",
      "source": [
        "value1 and value3 in the above example are of string datatypes whereas 99 is of integer data type. We will be getting a typeError when we are performing operations of different data types. We can store the value '99' as string and then we can concatenate them as below."
      ],
      "metadata": {
        "id": "xICqv-37MCiT"
      }
    },
    {
      "cell_type": "code",
      "source": [
        "value1 = 'I have eaten '\n",
        "value2 = '99 '\n",
        "value3 = 'burritos'\n",
        "\n",
        "value4 = value1  + value2  + value3\n",
        "print(value4)"
      ],
      "metadata": {
        "colab": {
          "base_uri": "https://localhost:8080/"
        },
        "id": "w3Ee3BGDMeOv",
        "outputId": "ee4e1e46-a93d-4f9e-d73a-bc6a38063e49"
      },
      "execution_count": 13,
      "outputs": [
        {
          "output_type": "stream",
          "name": "stdout",
          "text": [
            "I have eaten 99 burritos\n"
          ]
        }
      ]
    }
  ]
}