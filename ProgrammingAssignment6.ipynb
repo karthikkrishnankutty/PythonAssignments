{
  "nbformat": 4,
  "nbformat_minor": 0,
  "metadata": {
    "colab": {
      "provenance": []
    },
    "kernelspec": {
      "name": "python3",
      "display_name": "Python 3"
    },
    "language_info": {
      "name": "python"
    }
  },
  "cells": [
    {
      "cell_type": "markdown",
      "source": [
        "1.\tWrite a Python Program to Display Fibonacci Sequence Using Recursion?"
      ],
      "metadata": {
        "id": "k6JdVMeb1pSN"
      }
    },
    {
      "cell_type": "code",
      "execution_count": 1,
      "metadata": {
        "colab": {
          "base_uri": "https://localhost:8080/"
        },
        "id": "-2F9yOPH1PDZ",
        "outputId": "8676b6a1-14f0-4d14-fa34-3d8344e4d1b3"
      },
      "outputs": [
        {
          "output_type": "stream",
          "name": "stdout",
          "text": [
            "Enter the number of terms for which sequence should be generated : 10\n",
            "0\n",
            "1\n",
            "1\n",
            "2\n",
            "3\n",
            "5\n",
            "8\n",
            "13\n",
            "21\n",
            "34\n"
          ]
        }
      ],
      "source": [
        "def fibonacciSequence(n):\n",
        "  if n <= 1:\n",
        "    return n\n",
        "  else:\n",
        "    return (fibonacciSequence(n-1) + fibonacciSequence(n-2))\n",
        "\n",
        "terms = int(input(\"Enter the number of terms for which sequence should be generated : \"))\n",
        "\n",
        "if terms <= 0:\n",
        "  print(\"Please enter a positive number\")\n",
        "else:\n",
        "  for i in range (terms):\n",
        "    print(fibonacciSequence(i))"
      ]
    },
    {
      "cell_type": "markdown",
      "source": [
        "2.\tWrite a Python Program to Find Factorial of Number Using Recursion?"
      ],
      "metadata": {
        "id": "Fqn1WHtr3B7I"
      }
    },
    {
      "cell_type": "code",
      "source": [
        "def factorial(n):\n",
        "  if n == 1:\n",
        "    return n\n",
        "  else:\n",
        "    return n*factorial(n-1)\n",
        "\n",
        "value = int(input(\"Enter a number : \"))\n",
        "\n",
        "if value < 0:\n",
        "  print(\"Enter a positive number as factorial cannot be calculated for negative values : \")\n",
        "elif value == 0:\n",
        "  print(\"Factorial for 0 is 1\")\n",
        "else:\n",
        "  print(f\"The factorial for a given number {value} is : \", factorial(value))"
      ],
      "metadata": {
        "colab": {
          "base_uri": "https://localhost:8080/"
        },
        "id": "7WT_KcBK2rs2",
        "outputId": "1233291d-3b57-42af-f341-b8722610f108"
      },
      "execution_count": 3,
      "outputs": [
        {
          "output_type": "stream",
          "name": "stdout",
          "text": [
            "Enter a number : 6\n",
            "The factorial for a given number 6 is :  720\n"
          ]
        }
      ]
    },
    {
      "cell_type": "markdown",
      "source": [
        "3.\tWrite a Python Program to calculate your Body Mass Index?"
      ],
      "metadata": {
        "id": "RkxU3jhD31wN"
      }
    },
    {
      "cell_type": "code",
      "source": [
        "height = float(input(\"Enter your height in cm : \"))\n",
        "weight = float(input(\"Enter your weight in kg : \"))\n",
        "\n",
        "BMI = weight/(height/100)**2\n",
        "\n",
        "print(\"Your BMI is : \", BMI)"
      ],
      "metadata": {
        "colab": {
          "base_uri": "https://localhost:8080/"
        },
        "id": "O1VipqSR3uSp",
        "outputId": "34a19f97-7e1c-46d5-a8f5-759d443af4a5"
      },
      "execution_count": 5,
      "outputs": [
        {
          "output_type": "stream",
          "name": "stdout",
          "text": [
            "Enter your height in cm : 160\n",
            "Enter your weight in kg : 61\n",
            "Your BMI is :  23.828124999999996\n"
          ]
        }
      ]
    },
    {
      "cell_type": "markdown",
      "source": [
        "4.\tWrite a Python Program to calculate the natural logarithm of any number?"
      ],
      "metadata": {
        "id": "3Z4FOH4N7Jy2"
      }
    },
    {
      "cell_type": "code",
      "source": [
        "import math\n",
        "\n",
        "value1 = float(input(\"Enter a value : \"))\n",
        "print(f\"Natural logarithm of the given number {value1} is : \", math.log(value1))"
      ],
      "metadata": {
        "colab": {
          "base_uri": "https://localhost:8080/"
        },
        "id": "YI7vKnDA5ABZ",
        "outputId": "169a1734-8cac-470d-d60f-7c885f1817f2"
      },
      "execution_count": 7,
      "outputs": [
        {
          "output_type": "stream",
          "name": "stdout",
          "text": [
            "Enter a value : 144\n",
            "Natural logarithm of the given number 144.0 is :  4.969813299576001\n"
          ]
        }
      ]
    },
    {
      "cell_type": "markdown",
      "source": [
        "5.\tWrite a Python Program for cube sum of first n natural numbers?"
      ],
      "metadata": {
        "id": "bSE12Gso8hbY"
      }
    },
    {
      "cell_type": "code",
      "source": [
        "def sumOfSeries(n):\n",
        "  sum = 0\n",
        "\n",
        "  for i in range (1, n+1):\n",
        "    sum += i*i*i\n",
        "  return sum\n",
        "\n",
        "value1 = int(input(\"Etner a value :\"))\n",
        "print(f\"Cubical sum of the given series {value1} is : \", sumOfSeries(value1))"
      ],
      "metadata": {
        "colab": {
          "base_uri": "https://localhost:8080/"
        },
        "id": "e2sKfaM68PGF",
        "outputId": "098b361e-ecfb-486a-b44a-13078877fca3"
      },
      "execution_count": 9,
      "outputs": [
        {
          "output_type": "stream",
          "name": "stdout",
          "text": [
            "Etner a value :5\n",
            "Cubical sum of the given series 5 is :  225\n"
          ]
        }
      ]
    }
  ]
}