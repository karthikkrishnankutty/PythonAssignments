{
  "nbformat": 4,
  "nbformat_minor": 0,
  "metadata": {
    "colab": {
      "provenance": []
    },
    "kernelspec": {
      "name": "python3",
      "display_name": "Python 3"
    },
    "language_info": {
      "name": "python"
    }
  },
  "cells": [
    {
      "cell_type": "markdown",
      "source": [
        "1.What are the two values of the Boolean data type? How do you write them?"
      ],
      "metadata": {
        "id": "xsOoqoMqLpkJ"
      }
    },
    {
      "cell_type": "markdown",
      "source": [
        "1. True (Any value except 0)\n",
        "\n",
        "2. False (0)"
      ],
      "metadata": {
        "id": "EpCg94K2L8HB"
      }
    },
    {
      "cell_type": "code",
      "source": [
        "val1 = True\n",
        "val2 = False"
      ],
      "metadata": {
        "id": "_xPphs-EMA8s"
      },
      "execution_count": null,
      "outputs": []
    },
    {
      "cell_type": "markdown",
      "source": [
        "2. What are the three different types of Boolean operators?"
      ],
      "metadata": {
        "id": "6jEQ4Ttl1uvF"
      }
    },
    {
      "cell_type": "markdown",
      "source": [
        "1. not - unary negotiation\n",
        "\n",
        "2. and - conditional AND\n",
        "\n",
        "3. or - conditional OR"
      ],
      "metadata": {
        "id": "V7xM0_3b1wQH"
      }
    },
    {
      "cell_type": "markdown",
      "source": [
        "3. Make a list of each Boolean operator's truth tables (i.e. every possible combination of Boolean values for the operator and what it evaluate )."
      ],
      "metadata": {
        "id": "HjR_OXKq2P5M"
      }
    },
    {
      "cell_type": "markdown",
      "source": [
        "not:\n",
        "\n",
        "input - output\n",
        "\n",
        "  true  - false\n",
        "\n",
        "  false - true\n",
        "\n",
        "and:\n",
        "\n",
        "input1  - input2  - output\n",
        "\n",
        "true    - true    - true\n",
        "\n",
        "true    - false   - false\n",
        "\n",
        "false   - true    - false\n",
        "\n",
        "false   - false   - false\n",
        "\n",
        "or:\n",
        "\n",
        "input1  - input2  - ouput\n",
        "\n",
        "true    - true    - true\n",
        "\n",
        "true    - false   - true\n",
        "\n",
        "false   - true    - true\n",
        "\n",
        "false   - false   - false\n"
      ],
      "metadata": {
        "id": "tgJh_wiJ2Sql"
      }
    },
    {
      "cell_type": "markdown",
      "source": [
        "4. What are the values of the following expressions?\n",
        "\n",
        "(5 > 4) and (3 == 5)                - False\n",
        "\n",
        "not (5 > 4)                         - False\n",
        "\n",
        "(5 > 4) or (3 == 5)                 - True\n",
        "\n",
        "not ((5 > 4) or (3 == 5))           - False\n",
        "\n",
        "(True and True) and (True == False) - False\n",
        "\n",
        "(not False) or (not True)           - True\n"
      ],
      "metadata": {
        "id": "p8fiPBcpBjBe"
      }
    },
    {
      "cell_type": "code",
      "source": [
        "res1 = (5>4) and (3==5)\n",
        "print(res1) \n",
        "\n",
        "res2 = not(5>4)\n",
        "print(res2)\n",
        "\n",
        "res3 = (5 > 4) or (3 == 5)\n",
        "print(res3)\n",
        "\n",
        "res4 = not ((5 > 4) or (3 == 5))\n",
        "print(res4)\n",
        "\n",
        "res5 = (True and True) and (True == False)\n",
        "print(res5)\n",
        "\n",
        "res6 = (not False) or (not True)\n",
        "print(res6)"
      ],
      "metadata": {
        "colab": {
          "base_uri": "https://localhost:8080/"
        },
        "id": "zxDPnIzsBu3o",
        "outputId": "65e751c0-f5ea-4650-d7ff-f5ef870fa336"
      },
      "execution_count": 7,
      "outputs": [
        {
          "output_type": "stream",
          "name": "stdout",
          "text": [
            "False\n",
            "False\n",
            "True\n",
            "False\n",
            "False\n",
            "True\n"
          ]
        }
      ]
    },
    {
      "cell_type": "markdown",
      "source": [
        "5. What are the six comparison operators?"
      ],
      "metadata": {
        "id": "FNch0Ex6DaQ8"
      }
    },
    {
      "cell_type": "markdown",
      "source": [
        "1. Less than operator ( < )\n",
        "\n",
        "2. Less than or equal to operator ( <= )\n",
        "\n",
        "3. Greater than operator ( > )\n",
        "\n",
        "4. Greater than or equal to operator ( >= )\n",
        "\n",
        "5. Equal to operator ( == )\n",
        "\n",
        "6. Not Equal to operator ( != )"
      ],
      "metadata": {
        "id": "Y-00Gdo5Dhga"
      }
    },
    {
      "cell_type": "markdown",
      "source": [
        "6. How do you tell the difference between the equal to and assignment operators?Describe a condition and when you would use one."
      ],
      "metadata": {
        "id": "5xlHM4kCEFSx"
      }
    },
    {
      "cell_type": "markdown",
      "source": [
        "Equal to :     \n",
        "\n",
        "Equal to ( == ) operator used to compare if both the variables are having the same value or not.\n",
        "\n",
        "Assignment operator :     \n",
        "\n",
        "Assignment ( = ) operator is used to assign a value or the result of some operation to a variable."
      ],
      "metadata": {
        "id": "XnVXG6QIEIC5"
      }
    },
    {
      "cell_type": "code",
      "source": [
        "#Equal To Operator\n",
        "a = 3.5\n",
        "b = 3.5\n",
        "\n",
        "a == b"
      ],
      "metadata": {
        "colab": {
          "base_uri": "https://localhost:8080/"
        },
        "id": "8srt87CqEolK",
        "outputId": "acb9a2bf-56e3-4842-846b-7572215b4aa4"
      },
      "execution_count": 8,
      "outputs": [
        {
          "output_type": "execute_result",
          "data": {
            "text/plain": [
              "True"
            ]
          },
          "metadata": {},
          "execution_count": 8
        }
      ]
    },
    {
      "cell_type": "code",
      "source": [
        "#Assignment Operator\n",
        "a = 3.5  # Assigining a value 3.5 to variable a\n",
        "b = 3.5  # Assigining a value 3.5 to variable b\n",
        "\n",
        "c = a + b # Assinging the result of a +b to a variable c\n",
        "print(c)"
      ],
      "metadata": {
        "colab": {
          "base_uri": "https://localhost:8080/"
        },
        "id": "ZYUhbJgREyjp",
        "outputId": "cd2c69ac-8d18-4d2e-9b51-60d91df49a62"
      },
      "execution_count": 10,
      "outputs": [
        {
          "output_type": "stream",
          "name": "stdout",
          "text": [
            "7.0\n"
          ]
        }
      ]
    },
    {
      "cell_type": "markdown",
      "source": [
        "7. Identify the three blocks in this code:\n",
        "\n",
        "spam = 0\n",
        "\n",
        "if spam == 10:\n",
        "\n",
        "print('eggs')\n",
        "\n",
        "if spam > 5:\n",
        "\n",
        "print('bacon')\n",
        "\n",
        "else:\n",
        "\n",
        "print('ham')\n",
        "\n",
        "print('spam')\n",
        "\n",
        "print('spam')\n"
      ],
      "metadata": {
        "id": "Kf704zK2HowI"
      }
    },
    {
      "cell_type": "code",
      "source": [
        "spam = 0\n",
        "if spam == 10:   #This condition will check if the value of the variable 'spam' is 10 or not. In this case, the condition will fail.\n",
        "  print('eggs')  #This statement will not be exeucted as the if condition fails.\n",
        "if spam > 5:     #This condition will fail as 0 is not greater than 5\n",
        "  print('bacon') #This statement will not be executed as the if condition fails.\n",
        "else:            #This else block will be executed as it does not fulfill any other if conditions.\n",
        "  print('ham')\n",
        "  print('spam')\n",
        "  print('spam')\n"
      ],
      "metadata": {
        "colab": {
          "base_uri": "https://localhost:8080/"
        },
        "id": "bElkHAhDH-CD",
        "outputId": "0b2fc074-ab25-4c28-90ac-6fd4f2574347"
      },
      "execution_count": 11,
      "outputs": [
        {
          "output_type": "stream",
          "name": "stdout",
          "text": [
            "ham\n",
            "spam\n",
            "spam\n"
          ]
        }
      ]
    },
    {
      "cell_type": "markdown",
      "source": [
        "8. Write code that prints Hello if 1 is stored in spam, prints Howdy if 2 is stored in spam, and prints Greetings! if anything else is stored in spam."
      ],
      "metadata": {
        "id": "qH4vRTB4LP9I"
      }
    },
    {
      "cell_type": "code",
      "source": [
        "spam = 3\n",
        "\n",
        "if spam == 1:\n",
        "  print(\"Hello\")\n",
        "elif spam == 2:\n",
        "  print(\"Howdy\")\n",
        "else:\n",
        "  print(\"Greetings\")"
      ],
      "metadata": {
        "colab": {
          "base_uri": "https://localhost:8080/"
        },
        "id": "ILetjX1mLRuB",
        "outputId": "6745bbb1-f648-4878-ef52-d7aee7faf067"
      },
      "execution_count": 15,
      "outputs": [
        {
          "output_type": "stream",
          "name": "stdout",
          "text": [
            "Greetings\n"
          ]
        }
      ]
    },
    {
      "cell_type": "markdown",
      "source": [
        "9.If your programme is stuck in an endless loop, what keys you’ll press?"
      ],
      "metadata": {
        "id": "okkAZwr2MWp6"
      }
    },
    {
      "cell_type": "markdown",
      "source": [
        "By pressing Ctrl + C, we can break out the endless loop in Python."
      ],
      "metadata": {
        "id": "W8rv4UjrMYD3"
      }
    },
    {
      "cell_type": "markdown",
      "source": [
        "10. How can you tell the difference between break and continue?"
      ],
      "metadata": {
        "id": "8lfboEoCNS6e"
      }
    },
    {
      "cell_type": "markdown",
      "source": [
        "Break:  \n",
        " \n",
        "Break statement terminates the execution of the current loop and passes the control over the next loop or main body.\n",
        "\n",
        "Continue:  \n",
        "\n",
        "Continue statement skips the current iteration and executes the very next iteration in the loop."
      ],
      "metadata": {
        "id": "unNDwWynNkKu"
      }
    },
    {
      "cell_type": "markdown",
      "source": [
        "11. In a for loop, what is the difference between range(10), range(0, 10), and range(0, 10, 1)?"
      ],
      "metadata": {
        "id": "MCEZfCQuN10Y"
      }
    },
    {
      "cell_type": "markdown",
      "source": [
        "range (10) :    \n",
        "\n",
        "This statement will indicate the list of items of a sequence of length 10.\n",
        "\n",
        "range (0,10) :     \n",
        "\n",
        "This statement will indicate the values starting from 0 to 10.\n",
        "\n",
        "range (0,10,1):       \n",
        "\n",
        "This statement will indicate the value will start from 0 to 10 increased by the step number mentioned as 1 in the condition."
      ],
      "metadata": {
        "id": "u2ON0Y85N7RM"
      }
    },
    {
      "cell_type": "markdown",
      "source": [
        "12. Write a short program that prints the numbers 1 to 10 using a for loop. Then write an equivalent program that prints the numbers 1 to 10 using a while loop."
      ],
      "metadata": {
        "id": "XrbOzO1lP-_2"
      }
    },
    {
      "cell_type": "code",
      "source": [
        "#Printing numbers 1 to 10 using for loop\n",
        "for i in range(1,11):\n",
        "  print(i)"
      ],
      "metadata": {
        "colab": {
          "base_uri": "https://localhost:8080/"
        },
        "id": "CCk2w3s1QHEV",
        "outputId": "81f41bc2-dc8d-4f11-ff93-92994223fd6c"
      },
      "execution_count": 19,
      "outputs": [
        {
          "output_type": "stream",
          "name": "stdout",
          "text": [
            "1\n",
            "2\n",
            "3\n",
            "4\n",
            "5\n",
            "6\n",
            "7\n",
            "8\n",
            "9\n"
          ]
        }
      ]
    },
    {
      "cell_type": "code",
      "source": [
        "#printing numbers 1 to 10 using while loop\n",
        "i = 1\n",
        "while(i<=10):\n",
        "    print(i)\n",
        "    i += 1"
      ],
      "metadata": {
        "colab": {
          "base_uri": "https://localhost:8080/"
        },
        "id": "Ym_nNWUpUw5H",
        "outputId": "406384e3-93c9-4188-e78d-9b13675d8715"
      },
      "execution_count": 20,
      "outputs": [
        {
          "output_type": "stream",
          "name": "stdout",
          "text": [
            "1\n",
            "2\n",
            "3\n",
            "4\n",
            "5\n",
            "6\n",
            "7\n",
            "8\n",
            "9\n",
            "10\n"
          ]
        }
      ]
    },
    {
      "cell_type": "markdown",
      "source": [
        "13. If you had a function named bacon() inside a module named spam, how would you call it after importing spam?"
      ],
      "metadata": {
        "id": "oLSTd0_zU_BR"
      }
    },
    {
      "cell_type": "markdown",
      "source": [
        "By using a dot(.) operator we can call any functions inside a package/ module after importing them into the code.\n",
        "\n",
        "spam.module()"
      ],
      "metadata": {
        "id": "L5KDjJI3VBQI"
      }
    }
  ]
}