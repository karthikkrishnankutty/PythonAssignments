{
  "nbformat": 4,
  "nbformat_minor": 0,
  "metadata": {
    "colab": {
      "provenance": []
    },
    "kernelspec": {
      "name": "python3",
      "display_name": "Python 3"
    },
    "language_info": {
      "name": "python"
    }
  },
  "cells": [
    {
      "cell_type": "markdown",
      "source": [
        "1. What exactly is []?"
      ],
      "metadata": {
        "id": "ioi8EJVfMVSA"
      }
    },
    {
      "cell_type": "markdown",
      "source": [
        "In python, [] represents the list. The values defined in a list can be changed later based on the requirement. This is the reason list are called as mutabale in python. List can accept duplciate entries.\n",
        "\n",
        "[] is used to initialize the list variable which can later be modified."
      ],
      "metadata": {
        "id": "4zBFDtcIMa5c"
      }
    },
    {
      "cell_type": "code",
      "source": [
        "b = []\n",
        "len(b)"
      ],
      "metadata": {
        "colab": {
          "base_uri": "https://localhost:8080/"
        },
        "id": "xk20WPJyPdal",
        "outputId": "c09d90ae-014e-454d-dd4c-cbc58d75d4dd"
      },
      "execution_count": null,
      "outputs": [
        {
          "output_type": "execute_result",
          "data": {
            "text/plain": [
              "0"
            ]
          },
          "metadata": {},
          "execution_count": 4
        }
      ]
    },
    {
      "cell_type": "code",
      "source": [
        "b = [1,2,3,'karthik',2.34,3+4j]\n",
        "type(b)"
      ],
      "metadata": {
        "colab": {
          "base_uri": "https://localhost:8080/"
        },
        "id": "L6t5oToxPlKE",
        "outputId": "f35f073b-2262-4649-cfd2-9a01dcd576bf"
      },
      "execution_count": null,
      "outputs": [
        {
          "output_type": "execute_result",
          "data": {
            "text/plain": [
              "list"
            ]
          },
          "metadata": {},
          "execution_count": 5
        }
      ]
    },
    {
      "cell_type": "markdown",
      "source": [
        "2. In a list of values stored in a variable called spam, how would you assign the value 'hello' as the third value? (Assume [2, 4, 6, 8, 10] are in spam.)"
      ],
      "metadata": {
        "id": "_vYOWHXINwv5"
      }
    },
    {
      "cell_type": "code",
      "source": [
        "myList =[2,4,6,8,10]\n",
        "myList[2]='hello'\n",
        "myList"
      ],
      "metadata": {
        "colab": {
          "base_uri": "https://localhost:8080/"
        },
        "id": "Jp44iLBKNhrD",
        "outputId": "54d79d0b-874f-44e5-d8ae-e3d69394f2bf"
      },
      "execution_count": null,
      "outputs": [
        {
          "output_type": "execute_result",
          "data": {
            "text/plain": [
              "[2, 4, 'hello', 8, 10]"
            ]
          },
          "metadata": {},
          "execution_count": 2
        }
      ]
    },
    {
      "cell_type": "code",
      "source": [],
      "metadata": {
        "id": "8jWqbD17OJKA"
      },
      "execution_count": null,
      "outputs": []
    },
    {
      "cell_type": "markdown",
      "source": [
        "spam[] = ['a','b','c','d']\n",
        "\n",
        "3. What is the value of spam[int(int('3' * 2) / 11)]?"
      ],
      "metadata": {
        "id": "ucPmGabkOmeM"
      }
    },
    {
      "cell_type": "code",
      "source": [
        "spam = ['a','b','c','d']\n",
        "spam[int(int('3' * 2) / 11)]"
      ],
      "metadata": {
        "colab": {
          "base_uri": "https://localhost:8080/",
          "height": 36
        },
        "id": "8rqlFIJOO6zk",
        "outputId": "04bebb10-5d98-4d1f-d896-a19c77768bc3"
      },
      "execution_count": null,
      "outputs": [
        {
          "output_type": "execute_result",
          "data": {
            "text/plain": [
              "'d'"
            ],
            "application/vnd.google.colaboratory.intrinsic+json": {
              "type": "string"
            }
          },
          "metadata": {},
          "execution_count": 3
        }
      ]
    },
    {
      "cell_type": "markdown",
      "source": [
        "4. What is the value of spam[]?\n",
        "\n",
        "Negative values represent the list items in a reveresed order."
      ],
      "metadata": {
        "id": "7wnlzzSCPswH"
      }
    },
    {
      "cell_type": "code",
      "source": [
        "spam = ['a','b','c','d']\n",
        "spam[-1]"
      ],
      "metadata": {
        "colab": {
          "base_uri": "https://localhost:8080/",
          "height": 36
        },
        "id": "bS1mMF9fP34F",
        "outputId": "f3895752-a980-4e13-f3e1-63c981e8d222"
      },
      "execution_count": null,
      "outputs": [
        {
          "output_type": "execute_result",
          "data": {
            "text/plain": [
              "'d'"
            ],
            "application/vnd.google.colaboratory.intrinsic+json": {
              "type": "string"
            }
          },
          "metadata": {},
          "execution_count": 6
        }
      ]
    },
    {
      "cell_type": "markdown",
      "source": [
        "5. What is the value of spam[:2]?\n",
        "\n",
        "This will have the list items of indexes starting from 0 to 1."
      ],
      "metadata": {
        "id": "_bkja8FXQM4w"
      }
    },
    {
      "cell_type": "code",
      "source": [
        "spam = ['a','b','c','d']\n",
        "spam[:2]"
      ],
      "metadata": {
        "colab": {
          "base_uri": "https://localhost:8080/"
        },
        "id": "pF2FUE2HP7tH",
        "outputId": "555c7d95-f87f-4e27-8d99-8275b231c178"
      },
      "execution_count": null,
      "outputs": [
        {
          "output_type": "execute_result",
          "data": {
            "text/plain": [
              "['a', 'b']"
            ]
          },
          "metadata": {},
          "execution_count": 7
        }
      ]
    },
    {
      "cell_type": "markdown",
      "source": [
        "Let's pretend bacon has the list [3.14, 'cat,' 11, 'cat,' True] for the next three questions.\n",
        "6. What is the value of bacon.index('cat')?\n"
      ],
      "metadata": {
        "id": "n2ITiCqzQjg6"
      }
    },
    {
      "cell_type": "code",
      "source": [
        "bacon = [3.14,'cat',11,'cat',True]\n",
        "bacon.index('cat') #Index will represent the first occurence of the element in the list"
      ],
      "metadata": {
        "colab": {
          "base_uri": "https://localhost:8080/"
        },
        "id": "BYBgzUE0Qu_z",
        "outputId": "fb75ab79-273c-43fb-e96c-a186feaf5d79"
      },
      "execution_count": null,
      "outputs": [
        {
          "output_type": "execute_result",
          "data": {
            "text/plain": [
              "1"
            ]
          },
          "metadata": {},
          "execution_count": 8
        }
      ]
    },
    {
      "cell_type": "markdown",
      "source": [
        "7. How does bacon.append(99) change the look of the list value in bacon?"
      ],
      "metadata": {
        "id": "BujOT7wgRHwn"
      }
    },
    {
      "cell_type": "code",
      "source": [
        "bacon = [3.14,'cat',11,'cat',True]\n",
        "bacon.append(99) #append method will include the element at the last of the list\n",
        "bacon"
      ],
      "metadata": {
        "colab": {
          "base_uri": "https://localhost:8080/"
        },
        "id": "48yRO9Y9Q6-1",
        "outputId": "74fdcf21-269a-4136-cbe4-6a0b99047839"
      },
      "execution_count": null,
      "outputs": [
        {
          "output_type": "execute_result",
          "data": {
            "text/plain": [
              "[3.14, 'cat', 11, 'cat', True, 99]"
            ]
          },
          "metadata": {},
          "execution_count": 10
        }
      ]
    },
    {
      "cell_type": "markdown",
      "source": [
        "8. How does bacon.remove('cat') change the look of the list in bacon?"
      ],
      "metadata": {
        "id": "La6f_4MaRdly"
      }
    },
    {
      "cell_type": "code",
      "source": [
        "bacon = [3.14,'cat',11,'cat',True]\n",
        "bacon.remove('cat') #remove method will remove the first occurence of the element in the list.\n",
        "bacon"
      ],
      "metadata": {
        "colab": {
          "base_uri": "https://localhost:8080/"
        },
        "id": "TPiat-SLRQb5",
        "outputId": "7bc3f1e5-2a5c-4288-ca1c-1a86f7c2b06e"
      },
      "execution_count": null,
      "outputs": [
        {
          "output_type": "execute_result",
          "data": {
            "text/plain": [
              "[3.14, 11, 'cat', True]"
            ]
          },
          "metadata": {},
          "execution_count": 12
        }
      ]
    },
    {
      "cell_type": "code",
      "source": [],
      "metadata": {
        "id": "JntsQoU-Rtlp"
      },
      "execution_count": null,
      "outputs": []
    },
    {
      "cell_type": "markdown",
      "source": [
        "9. What are the list concatenation and list replication operators?"
      ],
      "metadata": {
        "id": "SQ_EaCDwCAiU"
      }
    },
    {
      "cell_type": "markdown",
      "source": [
        "Concatenation operator:\n",
        "\n",
        "Concatenation operator is used to combine two or more list objects. (+) operator is used for concatenation.\n",
        "\n",
        "Replication Operator:\n",
        "\n",
        "replication operator is used for replicating the same elements in a list. (*) operator is used for replication"
      ],
      "metadata": {
        "id": "TGltdJjVP-3-"
      }
    },
    {
      "cell_type": "code",
      "source": [
        "a = [1,2,3]\n",
        "b = [4,5,6]\n",
        "a + b"
      ],
      "metadata": {
        "colab": {
          "base_uri": "https://localhost:8080/"
        },
        "id": "IUYPZXZfP1GB",
        "outputId": "7bb2c86d-5e1a-46a1-874d-77cee0167297"
      },
      "execution_count": 1,
      "outputs": [
        {
          "output_type": "execute_result",
          "data": {
            "text/plain": [
              "[1, 2, 3, 4, 5, 6]"
            ]
          },
          "metadata": {},
          "execution_count": 1
        }
      ]
    },
    {
      "cell_type": "code",
      "source": [
        "a = [1,2,3]\n",
        "a * 2"
      ],
      "metadata": {
        "colab": {
          "base_uri": "https://localhost:8080/"
        },
        "id": "5HpffbyyQgtk",
        "outputId": "2a130ae4-add0-4e6f-8465-5fcf948026b4"
      },
      "execution_count": 2,
      "outputs": [
        {
          "output_type": "execute_result",
          "data": {
            "text/plain": [
              "[1, 2, 3, 1, 2, 3]"
            ]
          },
          "metadata": {},
          "execution_count": 2
        }
      ]
    },
    {
      "cell_type": "markdown",
      "source": [
        "10. What is difference between the list methods append() and insert()?"
      ],
      "metadata": {
        "id": "oGZOJjeHQ-IY"
      }
    },
    {
      "cell_type": "markdown",
      "source": [
        "append():\n",
        "\n",
        "append() method adds an element at the end of the list.\n",
        "\n",
        "insert():\n",
        "\n",
        "insert() method adds an element at the specified index of the list.s"
      ],
      "metadata": {
        "id": "jV1A36d2RNeS"
      }
    },
    {
      "cell_type": "code",
      "source": [
        "a = [1,2,3,4]\n",
        "a.append('New Value Through Append')\n",
        "a"
      ],
      "metadata": {
        "colab": {
          "base_uri": "https://localhost:8080/"
        },
        "id": "i2RXRDtWQ4fX",
        "outputId": "cd6f1558-4739-44dd-ba32-7a54d077304c"
      },
      "execution_count": 4,
      "outputs": [
        {
          "output_type": "execute_result",
          "data": {
            "text/plain": [
              "[1, 2, 3, 4, 'New Value Through Append']"
            ]
          },
          "metadata": {},
          "execution_count": 4
        }
      ]
    },
    {
      "cell_type": "code",
      "source": [
        "a = [1,2,3,4]\n",
        "a.insert(2,'New Value Through Insert')\n",
        "a"
      ],
      "metadata": {
        "colab": {
          "base_uri": "https://localhost:8080/"
        },
        "id": "M3ZPZX8nSVh7",
        "outputId": "4e9b41de-4bf8-4e5c-dd61-31235f051a35"
      },
      "execution_count": 6,
      "outputs": [
        {
          "output_type": "execute_result",
          "data": {
            "text/plain": [
              "[1, 2, 'New Value Through Insert', 3, 4]"
            ]
          },
          "metadata": {},
          "execution_count": 6
        }
      ]
    },
    {
      "cell_type": "markdown",
      "source": [
        "11. What are the two methods for removing items from a list?"
      ],
      "metadata": {
        "id": "ARNJzbY7S_ph"
      }
    },
    {
      "cell_type": "markdown",
      "source": [
        "remove():\n",
        "\n",
        "remove() method deletes the first occurence of the element matching from the list.\n",
        "\n",
        "pop():\n",
        "\n",
        "pop() method deletes the item based on the index number given."
      ],
      "metadata": {
        "id": "IANxkc-JTLLK"
      }
    },
    {
      "cell_type": "code",
      "source": [
        "a = [1,2,3,4,3,5]\n",
        "a.remove(3)\n",
        "a"
      ],
      "metadata": {
        "colab": {
          "base_uri": "https://localhost:8080/"
        },
        "id": "kfr8-H_IS27h",
        "outputId": "2e71c01e-acee-4a53-bf56-798642a9fc86"
      },
      "execution_count": 8,
      "outputs": [
        {
          "output_type": "execute_result",
          "data": {
            "text/plain": [
              "[1, 2, 4, 3, 5]"
            ]
          },
          "metadata": {},
          "execution_count": 8
        }
      ]
    },
    {
      "cell_type": "code",
      "source": [
        "a = [1,2,3,4,5]\n",
        "a.pop(2)\n",
        "a"
      ],
      "metadata": {
        "colab": {
          "base_uri": "https://localhost:8080/"
        },
        "id": "9B5kECvzTt5L",
        "outputId": "451630d1-a476-44b1-bc4d-d76500f09c96"
      },
      "execution_count": 10,
      "outputs": [
        {
          "output_type": "execute_result",
          "data": {
            "text/plain": [
              "[1, 2, 4, 5]"
            ]
          },
          "metadata": {},
          "execution_count": 10
        }
      ]
    },
    {
      "cell_type": "markdown",
      "source": [
        "12. Describe how list values and string values are identical."
      ],
      "metadata": {
        "id": "rGBea_HNUSW0"
      }
    },
    {
      "cell_type": "markdown",
      "source": [
        "length:\n",
        "\n",
        "A list length is defined by the number of items present in it. Whereas the string length is defined by the number of characters present in the string.\n",
        "\n",
        "index:\n",
        "\n",
        "Items in a list and the character in a string has a position which is called as index.\n",
        "\n",
        "The only difference is list can accept any type of data whereas the string is a collection of characters."
      ],
      "metadata": {
        "id": "mPFPQNjhUqr9"
      }
    },
    {
      "cell_type": "markdown",
      "source": [
        "13. What's the difference between tuples and lists?"
      ],
      "metadata": {
        "id": "sxjS7yD6Vja8"
      }
    },
    {
      "cell_type": "markdown",
      "source": [
        "The major difference between tuples are list is that list is mutable whereas tuples in python are immutable.\n",
        "\n",
        "We can change the value of a list whereas it is not possible with tuples. The values remain same in tuples."
      ],
      "metadata": {
        "id": "nn5h7q2tVlNf"
      }
    },
    {
      "cell_type": "markdown",
      "source": [
        "14. How do you type a tuple value that only contains the integer 42?"
      ],
      "metadata": {
        "id": "AhtzNWVyWKIE"
      }
    },
    {
      "cell_type": "code",
      "source": [
        "a = (42,) # If we didnt specify the comma, python will consider 42 as an integer value to the variable a.\n",
        "a"
      ],
      "metadata": {
        "colab": {
          "base_uri": "https://localhost:8080/"
        },
        "id": "v-Bgsjn2WT3Y",
        "outputId": "253acb3c-a148-4c6c-a803-fe24a0cd1402"
      },
      "execution_count": 14,
      "outputs": [
        {
          "output_type": "execute_result",
          "data": {
            "text/plain": [
              "(42,)"
            ]
          },
          "metadata": {},
          "execution_count": 14
        }
      ]
    },
    {
      "cell_type": "markdown",
      "source": [
        "15. How do you get a list value's tuple form? How do you get a tuple value's list form?"
      ],
      "metadata": {
        "id": "MBja2L8NXSuP"
      }
    },
    {
      "cell_type": "code",
      "source": [
        "input = [1,2,3,4]\n",
        "print(f\"Input : {input} Type : {type(input)}\")\n",
        "\n",
        "output = tuple(input)\n",
        "print(f\"Output : {output} Type: {type(output)}\")"
      ],
      "metadata": {
        "colab": {
          "base_uri": "https://localhost:8080/"
        },
        "id": "3Eq966GyW6a5",
        "outputId": "3381329a-db56-4692-be5e-b027e8b29e53"
      },
      "execution_count": 17,
      "outputs": [
        {
          "output_type": "stream",
          "name": "stdout",
          "text": [
            "Input : [1, 2, 3, 4] Type : <class 'list'>\n",
            "Output : (1, 2, 3, 4) Type: <class 'tuple'>\n"
          ]
        }
      ]
    },
    {
      "cell_type": "code",
      "source": [
        "input = (1,2,3,4)\n",
        "print(f\"Input : {input} Type : {type(input)}\")\n",
        "\n",
        "output = list(input)\n",
        "print(f\"Output Tuple : {output} Type: {type(output)}\")"
      ],
      "metadata": {
        "colab": {
          "base_uri": "https://localhost:8080/"
        },
        "id": "xMMD1hXoa3ja",
        "outputId": "055d8e4b-ab6d-4dcd-a5c8-df95c52066bf"
      },
      "execution_count": 18,
      "outputs": [
        {
          "output_type": "stream",
          "name": "stdout",
          "text": [
            "Input : (1, 2, 3, 4) Type : <class 'tuple'>\n",
            "Output Tuple : [1, 2, 3, 4] Type: <class 'list'>\n"
          ]
        }
      ]
    },
    {
      "cell_type": "markdown",
      "source": [
        "16. Variables that \"contain\" list values are not necessarily lists themselves. Instead, what do they contain?"
      ],
      "metadata": {
        "id": "thSz744IbgIa"
      }
    },
    {
      "cell_type": "markdown",
      "source": [
        "Variable which are present inside a list are actually having the **reference** to the list values."
      ],
      "metadata": {
        "id": "BQUDr1xOcFsT"
      }
    },
    {
      "cell_type": "markdown",
      "source": [
        "17. How do you distinguish between copy.copy() and copy.deepcopy()?"
      ],
      "metadata": {
        "id": "igNaEYhdcX38"
      }
    },
    {
      "cell_type": "markdown",
      "source": [
        "copy.copy():\n",
        "\n",
        "This creates a **reference** to the original object. If we change anything in the copied value, it gets replicated in the original object.\n",
        "\n",
        "copy.deepcopy():\n",
        "\n",
        "This creates a **new object** from the original one. Changes done at the copied object will get only reflected in the same and does not have any impact on the source object."
      ],
      "metadata": {
        "id": "EpdTfzlAcpIS"
      }
    },
    {
      "cell_type": "code",
      "source": [],
      "metadata": {
        "id": "vcIXHme1a-HZ"
      },
      "execution_count": null,
      "outputs": []
    }
  ]
}